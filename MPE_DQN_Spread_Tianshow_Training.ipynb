{
 "cells": [
  {
   "cell_type": "code",
   "execution_count": 1,
   "metadata": {},
   "outputs": [],
   "source": [
    "from email import utils\n",
    "import os\n",
    "import datetime\n",
    "from typing import Optional, Tuple\n",
    "import json\n",
    "\n",
    "\n",
    "os.environ[\"WANDB_NOTEBOOK_NAME\"] = \"Tianshow_Centralized_Training\"\n",
    "\n",
    "import numpy as np\n",
    "import torch\n",
    "from tianshou.data import Collector, VectorReplayBuffer, PrioritizedVectorReplayBuffer\n",
    "from tianshou.env import DummyVectorEnv\n",
    "from tianshou.env.pettingzoo_env import PettingZooEnv\n",
    "from tianshou.env.pettingzoo_env_parallel import PettingZooParallelEnv\n",
    "\n",
    "from tianshou.policy import BasePolicy, DQNPolicy, MultiAgentPolicyManager, RandomPolicy, RainbowPolicy\n",
    "from tianshou.trainer import OffpolicyTrainer\n",
    "from torch.utils.tensorboard import SummaryWriter\n",
    "\n",
    "# from pettingzoo.sisl import pursuit_v4\n",
    "from pettingzoo.mpe import simple_spread_v3\n",
    "#import Mods.TaskSpreadEnv as TaskSpreadEnv\n",
    "\n",
    "from TaskAllocation.RL_Policies.DNN_Spread import DNN_Spread\n",
    "from TaskAllocation.RL_Policies.MPE_Task_MultiHead import MPE_Task_MultiHead\n",
    "\n",
    "#import Mods.TaskPursuitEnv as TaskPursuitEnv\n",
    "import Mods.ActionLoggerWrapper as ActionLoggerWrapper\n",
    "import Mods.VDNPolicy as VDNPolicy\n",
    "import Mods.PettingZooParallelEnv2 as PettingZooParallelEnv2\n",
    "import Mods.CollectorMA as CollectorMA\n",
    "\n",
    "from TaskAllocation.RL_Policies.Custom_Classes import CustomNet\n",
    "from TaskAllocation.RL_Policies.Custom_Classes import CustomCollector\n",
    "from TaskAllocation.RL_Policies.Custom_Classes import CustomParallelToAECWrapper\n",
    "\n",
    "# Add specific modification to tianshou\n",
    "import wandb\n",
    "from tianshou.utils import WandbLogger\n",
    "from tianshou.utils.logger.base import LOG_DATA_TYPE\n",
    "\n",
    "def new_write(self, step_type: str, step: int, data: LOG_DATA_TYPE) -> None:\n",
    "    data[step_type] = step\n",
    "    wandb.log(data)\n",
    "    \n",
    "WandbLogger.write = new_write \n",
    "\n",
    "from pettingzoo.utils import wrappers\n",
    "import gym\n",
    "\n",
    "class ActionLoggerWrapper(gym.Wrapper):\n",
    "    def __init__(self, env):\n",
    "        super(ActionLoggerWrapper, self).__init__(env)\n",
    "        self.actions = []\n",
    "\n",
    "    def step(self, action):\n",
    "        self.actions.append(action)\n",
    "        return self.env.step(action)\n",
    "\n",
    "    def reset(self, **kwargs):      \n",
    "        if self.actions:\n",
    "            # Convert all actions to numpy arrays and standardize their shapes\n",
    "            formatted_actions = [np.array(a).flatten() for a in self.actions]\n",
    "            flattened_actions = np.concatenate(formatted_actions)\n",
    "\n",
    "            try:\n",
    "                # Compute the histogram\n",
    "                hist_data, bin_edges = np.histogram(flattened_actions, bins='auto')\n",
    "\n",
    "                # Log the actions as a histogram to wandb\n",
    "                wandb.log({\"actions_histogram\": wandb.Histogram(np_histogram=(hist_data, bin_edges))})\n",
    "            except Exception as e:\n",
    "                pass#print(\"Error in logging histogram:\", e)\n",
    "\n",
    "            self.actions = []\n",
    "        return self.env.reset(**kwargs)\n",
    "\n",
    "\n",
    "#from tianshou_DQN import train\n",
    "model  =  \"DNN_Spread\" #\"DNN_Spread\"#\"MPE_Task_MultiHead\" # #\"CNN_ATT_SISL\" #\"MultiHead_SISL\" \n",
    "test_num  =  \"_Desk_01_8feat\"\n",
    "policyModel  =  \"DQN\"\n",
    "\n",
    "train_env_num = 10\n",
    "test_env_num = 10\n",
    "\n",
    "name = model + test_num\n",
    "\n",
    "# log\n",
    "now = datetime.datetime.now().strftime(\"%y%m%d-%H%M%S\")\n",
    "log_name = name + str(now)\n",
    "log_path = os.path.join('./', \"Logs\", \"dqn_sisl\", log_name)\n",
    "\n",
    "#policy\n",
    "load_policy_name = f'policy_MPE_Task_MultiHead_Desk_01_8feat240112-145703_29_BestRew.pth'\n",
    "save_policy_name = f'policy_{log_name}'\n",
    "policy_path = \"dqn_Spread\"\n",
    "\n",
    "Policy_Config = {\n",
    "    \"same_policy\" : True,\n",
    "    \"load_model\" : False,\n",
    "    \"freeze_CNN\" : False     \n",
    "                }\n",
    "\n",
    "Spread_Config = {\n",
    "    \"N\": 3,                      # Default = 3\n",
    "    \"local_ratio\": 0.5,          # Default = 0.5\n",
    "    \"max_cycles\": 25,            # Default = 25\n",
    "    \"continuous_actions\": False, # Default = False\n",
    "    \"render_mode\": None          # Default = None \n",
    "}\n",
    "\n",
    "max_cycles = Spread_Config[\"max_cycles\"]\n",
    "n_agents = Spread_Config[\"N\"]\n",
    "\n",
    "dqn_params = {\"discount_factor\": 0.99, \n",
    "              \"estimation_step\": 5, \n",
    "              \"target_update_freq\": 40 * max_cycles,\n",
    "              \"optminizer\": \"Adam\",\n",
    "              \"lr\": 0.000001 }\n",
    "\n",
    "trainer_params = {\"max_epoch\": 500,\n",
    "                  \"step_per_epoch\": 1000 * max_cycles,\n",
    "                  \"step_per_collect\": 200 * max_cycles,\n",
    "                  \"episode_per_test\": 50,\n",
    "                  \"batch_size\" :  max_cycles,\n",
    "                  \"update_per_step\": 1 / 250, #Only run after close a Collect (run many times as necessary to meet the value)\n",
    "                  \"tn_eps_max\": 0.2,\n",
    "                  \"ts_eps_max\": 0.0,\n",
    "                  \"warmup_size\" : 10\n",
    "                  }\n",
    "\n",
    "\n",
    "runConfig = dqn_params\n",
    "runConfig.update(Policy_Config)\n",
    "runConfig.update(trainer_params) \n",
    "runConfig.update(Spread_Config)\n",
    "\n",
    "model_load_path = os.path.join(policy_path, load_policy_name)  \n",
    "model_save_path = os.path.join(policy_path, save_policy_name)        \n",
    "os.makedirs(os.path.join(policy_path), exist_ok=True)  \n",
    "os.makedirs(os.path.join(log_path), exist_ok=True)\n",
    "\n",
    "def _get_agents(\n",
    "    agent_learn: Optional[BasePolicy] = None,\n",
    "    agent_opponent: Optional[BasePolicy] = None,\n",
    "    optim: Optional[torch.optim.Optimizer] = None,\n",
    "    policy_load_path = None,\n",
    ") -> Tuple[BasePolicy, torch.optim.Optimizer, list]:\n",
    "    \n",
    "    env = _get_env()       \n",
    "    agent_observation_space = env.observation_space.shape\n",
    "   \n",
    "    action_shape = env.action_space\n",
    "    \n",
    "    device=\"cuda\" if torch.cuda.is_available() else \"cpu\"  \n",
    "\n",
    "    agents = []        \n",
    "    \n",
    "    if Policy_Config[\"same_policy\"]:\n",
    "        policies_number = 1\n",
    "    else:\n",
    "        policies_number = 3#len(env.agents)\n",
    "\n",
    "    for _ in range(policies_number):                   \n",
    "\n",
    "        if model == \"DNN_Spread\":\n",
    "            net = DNN_Spread(\n",
    "                obs_shape=agent_observation_space[0],                \n",
    "                action_shape=5,                \n",
    "                device=\"cuda\" if torch.cuda.is_available() else \"cpu\"\n",
    "                \n",
    "            ).to(device)\n",
    "\n",
    "        if model == \"VDN_Spread\":\n",
    "            net = DNN_Spread(\n",
    "                obs_shape=agent_observation_space[0],                \n",
    "                action_shape=5,                \n",
    "                device=\"cuda\" if torch.cuda.is_available() else \"cpu\"\n",
    "                \n",
    "            ).to(device)\n",
    "\n",
    "        if model == \"MPE_Task_MultiHead\":\n",
    "            net = MPE_Task_MultiHead(                \n",
    "                num_tasks=Spread_Config['N'] * 2 + 5,\n",
    "                num_features_per_task = 2,#6 + 2 + 1,                \n",
    "                device=\"cuda\" if torch.cuda.is_available() else \"cpu\"\n",
    "                \n",
    "            ).to(device)\n",
    "\n",
    "        optim = torch.optim.Adam(net.parameters(), lr=dqn_params[\"lr\"], weight_decay=0.0, amsgrad= True )                \n",
    "\n",
    "        if policyModel == \"DQN\":\n",
    "            agent_learn = DQNPolicy(\n",
    "                model=net,\n",
    "                optim=optim,\n",
    "                action_space = action_shape,\n",
    "                discount_factor= dqn_params[\"discount_factor\"],\n",
    "                estimation_step=dqn_params[\"estimation_step\"],\n",
    "                target_update_freq=dqn_params[\"target_update_freq\"],\n",
    "                reward_normalization = False,\n",
    "                clip_loss_grad = False \n",
    "            ) \n",
    "        \n",
    "        if policyModel == \"VDN\":\n",
    "            agent_learn = DQNPolicy(\n",
    "                model=net,\n",
    "                optim=optim,\n",
    "                action_space = action_shape,\n",
    "                discount_factor= dqn_params[\"discount_factor\"],\n",
    "                estimation_step=dqn_params[\"estimation_step\"],\n",
    "                target_update_freq=dqn_params[\"target_update_freq\"],\n",
    "                reward_normalization = False,\n",
    "                clip_loss_grad = False,                \n",
    "            ) \n",
    "\n",
    "        if Policy_Config[\"load_model\"] is True:\n",
    "            # Load the saved checkpoint             \n",
    "            agent_learn.load_state_dict(torch.load(model_load_path))\n",
    "            print(f'Loaded-> {model_load_path}')\n",
    "                   \n",
    "        #print(env.agents)\n",
    "        #agents = [agent_learn for _ in range(len(env.agents))]\n",
    "        \n",
    "        agents.append(agent_learn)\n",
    "\n",
    "    if Policy_Config[\"same_policy\"]:\n",
    "        agents = [agents[0] for _ in range(len(env.agents))]\n",
    "    else:\n",
    "        for _ in range(len(env.agents) - policies_number):\n",
    "            agents.append(agents[0])\n",
    "\n",
    "    # policy = VDNPolicy.VDNMAPolicy(policies = agents, env=env, device=\"cuda\" if torch.cuda.is_available() else \"cpu\" )  \n",
    "    policy = MultiAgentPolicyManager(policies = agents, env=env )  \n",
    "        \n",
    "    return policy, optim, env.agents\n",
    "\n",
    "def _get_env(test=False):\n",
    "    \"\"\"This function is needed to provide callables for DummyVectorEnv.\"\"\"   \n",
    "    # env_paralell = MultiUAVEnv()  \n",
    "    #env = pursuit_v4.env()    \n",
    "    #env = TaskSpreadEnv.env(\n",
    "    # env = simple_spread_v3.parallel_env(\n",
    "    env = simple_spread_v3.env(\n",
    "        max_cycles=Spread_Config[\"max_cycles\"],\n",
    "        local_ratio=Spread_Config[\"local_ratio\"],\n",
    "        N=Spread_Config[\"N\"],\n",
    "        continuous_actions=Spread_Config[\"continuous_actions\"],\n",
    "        render_mode=\" human\" #Spread_Config[\"render_mode\"]\n",
    "    )    \n",
    "    \n",
    "    # env = parallel_to_aec_wrapper(env_paralell)    \n",
    "    # env = CustomParallelToAECWrapper(env_paralell)\n",
    "    # env = ActionLoggerWrapper(env)\n",
    "    env = PettingZooEnv(env) \n",
    "    # env = PettingZooParallelEnv(env)\n",
    "       \n",
    "    return  env\n",
    "\n",
    "# print(json.dumps(runConfig, indent=4))\n"
   ]
  },
  {
   "cell_type": "code",
   "execution_count": 2,
   "metadata": {},
   "outputs": [
    {
     "name": "stderr",
     "output_type": "stream",
     "text": [
      "d:\\Python310\\lib\\site-packages\\torch\\nn\\init.py:412: UserWarning: Initializing zero-element tensors is a no-op\n",
      "  warnings.warn(\"Initializing zero-element tensors is a no-op\")\n"
     ]
    },
    {
     "name": "stdout",
     "output_type": "stream",
     "text": [
      "Buffer Warming Up \n",
      "........."
     ]
    },
    {
     "name": "stderr",
     "output_type": "stream",
     "text": [
      "\u001b[34m\u001b[1mwandb\u001b[0m: \u001b[33mWARNING\u001b[0m WANDB_NOTEBOOK_NAME should be a path to a notebook file, couldn't find Tianshow_Centralized_Training.\n"
     ]
    },
    {
     "name": "stdout",
     "output_type": "stream",
     "text": [
      "."
     ]
    },
    {
     "name": "stderr",
     "output_type": "stream",
     "text": [
      "\u001b[34m\u001b[1mwandb\u001b[0m: Currently logged in as: \u001b[33mandrekuros\u001b[0m. Use \u001b[1m`wandb login --relogin`\u001b[0m to force relogin\n",
      "d:\\Python310\\lib\\site-packages\\wandb\\sdk\\lib\\ipython.py:77: DeprecationWarning: Importing display from IPython.core.display is deprecated since IPython 7.14, please import from IPython display\n",
      "  from IPython.core.display import HTML, display  # type: ignore\n"
     ]
    },
    {
     "data": {
      "text/html": [
       "wandb version 0.16.2 is available!  To upgrade, please run:\n",
       " $ pip install wandb --upgrade"
      ],
      "text/plain": [
       "<IPython.core.display.HTML object>"
      ]
     },
     "metadata": {},
     "output_type": "display_data"
    },
    {
     "data": {
      "text/html": [
       "Tracking run with wandb version 0.16.0"
      ],
      "text/plain": [
       "<IPython.core.display.HTML object>"
      ]
     },
     "metadata": {},
     "output_type": "display_data"
    },
    {
     "data": {
      "text/html": [
       "Run data is saved locally in <code>d:\\GITHUB\\SiSL Eval\\Multi-UAV-TA-gym-env\\wandb\\run-20240120_015155-DNN_Spread_Desk_01_8feat240120-015135</code>"
      ],
      "text/plain": [
       "<IPython.core.display.HTML object>"
      ]
     },
     "metadata": {},
     "output_type": "display_data"
    },
    {
     "data": {
      "text/html": [
       "Syncing run <strong><a href='https://wandb.ai/andrekuros/Spread_Eval01/runs/DNN_Spread_Desk_01_8feat240120-015135' target=\"_blank\">DNN_Spread_Desk_01_8feat240120-015135</a></strong> to <a href='https://wandb.ai/andrekuros/Spread_Eval01' target=\"_blank\">Weights & Biases</a> (<a href='https://wandb.me/run' target=\"_blank\">docs</a>)<br/>"
      ],
      "text/plain": [
       "<IPython.core.display.HTML object>"
      ]
     },
     "metadata": {},
     "output_type": "display_data"
    },
    {
     "data": {
      "text/html": [
       " View project at <a href='https://wandb.ai/andrekuros/Spread_Eval01' target=\"_blank\">https://wandb.ai/andrekuros/Spread_Eval01</a>"
      ],
      "text/plain": [
       "<IPython.core.display.HTML object>"
      ]
     },
     "metadata": {},
     "output_type": "display_data"
    },
    {
     "data": {
      "text/html": [
       " View run at <a href='https://wandb.ai/andrekuros/Spread_Eval01/runs/DNN_Spread_Desk_01_8feat240120-015135' target=\"_blank\">https://wandb.ai/andrekuros/Spread_Eval01/runs/DNN_Spread_Desk_01_8feat240120-015135</a>"
      ],
      "text/plain": [
       "<IPython.core.display.HTML object>"
      ]
     },
     "metadata": {},
     "output_type": "display_data"
    },
    {
     "name": "stdout",
     "output_type": "stream",
     "text": [
      "Steps Policy Saved  0\n",
      "Best Saved Rew 1\n"
     ]
    },
    {
     "name": "stderr",
     "output_type": "stream",
     "text": [
      "Epoch #1: 25001it [00:15, 1641.40it/s, agent_0/loss=2.093, agent_1/loss=8.336, agent_2/loss=9.349, env_step=25000, len=75, n/ep=70, n/st=5000, rew=-32.42]                           \n"
     ]
    },
    {
     "name": "stdout",
     "output_type": "stream",
     "text": [
      "Best Saved Rew 7\n",
      "Epoch #1: test_reward: -32.786428 ± 8.368494, best_reward: -32.786428 ± 8.368494 in #1\n"
     ]
    },
    {
     "name": "stderr",
     "output_type": "stream",
     "text": [
      "Epoch #2: 25001it [00:12, 1960.13it/s, agent_0/loss=1.806, agent_1/loss=7.717, agent_2/loss=7.150, env_step=50000, len=75, n/ep=60, n/st=5000, rew=-27.72]                           \n"
     ]
    },
    {
     "name": "stdout",
     "output_type": "stream",
     "text": [
      "Best Saved Rew 13\n",
      "Epoch #2: test_reward: -27.106016 ± 7.294407, best_reward: -27.106016 ± 7.294407 in #2\n"
     ]
    },
    {
     "name": "stderr",
     "output_type": "stream",
     "text": [
      "Epoch #3: 25001it [00:14, 1758.72it/s, agent_0/loss=1.567, agent_1/loss=6.088, agent_2/loss=6.913, env_step=75000, len=75, n/ep=70, n/st=5000, rew=-27.16]                           \n"
     ]
    },
    {
     "name": "stdout",
     "output_type": "stream",
     "text": [
      "Best Saved Rew 19\n",
      "Epoch #3: test_reward: -24.415293 ± 7.123224, best_reward: -24.415293 ± 7.123224 in #3\n"
     ]
    },
    {
     "name": "stderr",
     "output_type": "stream",
     "text": [
      "Epoch #4: 25001it [00:13, 1803.79it/s, agent_0/loss=1.474, agent_1/loss=5.658, agent_2/loss=6.277, env_step=100000, len=75, n/ep=70, n/st=5000, rew=-26.43]                           \n"
     ]
    },
    {
     "name": "stdout",
     "output_type": "stream",
     "text": [
      "Epoch #4: test_reward: -26.412855 ± 9.111578, best_reward: -24.415293 ± 7.123224 in #3\n"
     ]
    },
    {
     "name": "stderr",
     "output_type": "stream",
     "text": [
      "Epoch #5: 25001it [00:14, 1783.26it/s, agent_0/loss=1.275, agent_1/loss=5.464, agent_2/loss=5.939, env_step=125000, len=75, n/ep=60, n/st=5000, rew=-26.20]                           \n"
     ]
    },
    {
     "name": "stdout",
     "output_type": "stream",
     "text": [
      "Steps Policy Saved  30\n",
      "Best Saved Rew 31\n",
      "Epoch #5: test_reward: -21.800845 ± 4.701187, best_reward: -21.800845 ± 4.701187 in #5\n"
     ]
    },
    {
     "name": "stderr",
     "output_type": "stream",
     "text": [
      "Epoch #6: 25001it [00:14, 1783.42it/s, agent_0/loss=1.202, agent_1/loss=5.088, agent_2/loss=5.258, env_step=150000, len=75, n/ep=70, n/st=5000, rew=-24.65]                           \n"
     ]
    },
    {
     "name": "stdout",
     "output_type": "stream",
     "text": [
      "Epoch #6: test_reward: -23.998107 ± 6.512105, best_reward: -21.800845 ± 4.701187 in #5\n"
     ]
    },
    {
     "name": "stderr",
     "output_type": "stream",
     "text": [
      "Epoch #7: 25001it [00:13, 1873.66it/s, agent_0/loss=1.166, agent_1/loss=4.909, agent_2/loss=5.229, env_step=175000, len=75, n/ep=70, n/st=5000, rew=-24.28]                           \n"
     ]
    },
    {
     "name": "stdout",
     "output_type": "stream",
     "text": [
      "Epoch #7: test_reward: -24.399072 ± 8.803554, best_reward: -21.800845 ± 4.701187 in #5\n"
     ]
    },
    {
     "name": "stderr",
     "output_type": "stream",
     "text": [
      "Epoch #8: 25001it [00:13, 1844.99it/s, agent_0/loss=1.162, agent_1/loss=4.751, agent_2/loss=5.025, env_step=200000, len=75, n/ep=60, n/st=5000, rew=-25.52]                           \n"
     ]
    },
    {
     "name": "stdout",
     "output_type": "stream",
     "text": [
      "Epoch #8: test_reward: -23.500906 ± 7.101769, best_reward: -21.800845 ± 4.701187 in #5\n"
     ]
    },
    {
     "name": "stderr",
     "output_type": "stream",
     "text": [
      "Epoch #9: 25001it [00:13, 1792.59it/s, agent_0/loss=1.075, agent_1/loss=4.536, agent_2/loss=4.653, env_step=225000, len=75, n/ep=70, n/st=5000, rew=-25.53]                           \n"
     ]
    },
    {
     "name": "stdout",
     "output_type": "stream",
     "text": [
      "Epoch #9: test_reward: -25.646778 ± 6.469532, best_reward: -21.800845 ± 4.701187 in #5\n"
     ]
    },
    {
     "name": "stderr",
     "output_type": "stream",
     "text": [
      "Epoch #10: 25001it [00:13, 1855.46it/s, agent_0/loss=1.031, agent_1/loss=4.524, agent_2/loss=4.806, env_step=250000, len=75, n/ep=70, n/st=5000, rew=-25.59]                           \n"
     ]
    },
    {
     "name": "stdout",
     "output_type": "stream",
     "text": [
      "Steps Policy Saved  60\n",
      "Epoch #10: test_reward: -25.502821 ± 7.334415, best_reward: -21.800845 ± 4.701187 in #5\n"
     ]
    },
    {
     "name": "stderr",
     "output_type": "stream",
     "text": [
      "Epoch #11: 25001it [00:13, 1830.22it/s, agent_0/loss=1.160, agent_1/loss=4.773, agent_2/loss=4.300, env_step=275000, len=75, n/ep=60, n/st=5000, rew=-25.13]                           \n"
     ]
    },
    {
     "name": "stdout",
     "output_type": "stream",
     "text": [
      "Epoch #11: test_reward: -26.371300 ± 9.714925, best_reward: -21.800845 ± 4.701187 in #5\n"
     ]
    },
    {
     "name": "stderr",
     "output_type": "stream",
     "text": [
      "Epoch #12: 25001it [00:13, 1888.72it/s, agent_0/loss=1.131, agent_1/loss=4.695, agent_2/loss=4.439, env_step=300000, len=75, n/ep=70, n/st=5000, rew=-26.95]                           \n"
     ]
    },
    {
     "name": "stdout",
     "output_type": "stream",
     "text": [
      "Epoch #12: test_reward: -29.565189 ± 12.858147, best_reward: -21.800845 ± 4.701187 in #5\n"
     ]
    },
    {
     "name": "stderr",
     "output_type": "stream",
     "text": [
      "Epoch #13: 25001it [00:13, 1861.32it/s, agent_0/loss=1.074, agent_1/loss=4.320, agent_2/loss=4.597, env_step=325000, len=75, n/ep=70, n/st=5000, rew=-25.88]                           \n"
     ]
    },
    {
     "name": "stdout",
     "output_type": "stream",
     "text": [
      "Epoch #13: test_reward: -27.986512 ± 8.464801, best_reward: -21.800845 ± 4.701187 in #5\n"
     ]
    },
    {
     "name": "stderr",
     "output_type": "stream",
     "text": [
      "Epoch #14: 25001it [00:13, 1793.21it/s, agent_0/loss=1.047, agent_1/loss=4.289, agent_2/loss=4.218, env_step=350000, len=75, n/ep=60, n/st=5000, rew=-25.95]                           \n"
     ]
    },
    {
     "name": "stdout",
     "output_type": "stream",
     "text": [
      "Epoch #14: test_reward: -27.743299 ± 10.934744, best_reward: -21.800845 ± 4.701187 in #5\n"
     ]
    },
    {
     "name": "stderr",
     "output_type": "stream",
     "text": [
      "Epoch #15: 25001it [00:14, 1671.57it/s, agent_0/loss=1.054, agent_1/loss=4.057, agent_2/loss=4.316, env_step=375000, len=75, n/ep=70, n/st=5000, rew=-29.56]                           \n"
     ]
    },
    {
     "name": "stdout",
     "output_type": "stream",
     "text": [
      "Steps Policy Saved  90\n",
      "Epoch #15: test_reward: -27.990545 ± 14.498297, best_reward: -21.800845 ± 4.701187 in #5\n"
     ]
    },
    {
     "name": "stderr",
     "output_type": "stream",
     "text": [
      "Epoch #16: 25001it [00:13, 1821.39it/s, agent_0/loss=1.065, agent_1/loss=4.475, agent_2/loss=4.532, env_step=400000, len=75, n/ep=70, n/st=5000, rew=-25.81]                           \n"
     ]
    },
    {
     "name": "stdout",
     "output_type": "stream",
     "text": [
      "Epoch #16: test_reward: -30.264157 ± 12.392549, best_reward: -21.800845 ± 4.701187 in #5\n"
     ]
    },
    {
     "name": "stderr",
     "output_type": "stream",
     "text": [
      "Epoch #17: 25001it [00:12, 1931.68it/s, agent_0/loss=1.086, agent_1/loss=4.314, agent_2/loss=4.489, env_step=425000, len=75, n/ep=60, n/st=5000, rew=-25.75]                           \n"
     ]
    },
    {
     "name": "stdout",
     "output_type": "stream",
     "text": [
      "Epoch #17: test_reward: -25.671774 ± 10.192229, best_reward: -21.800845 ± 4.701187 in #5\n"
     ]
    },
    {
     "name": "stderr",
     "output_type": "stream",
     "text": [
      "Epoch #18: 25001it [00:12, 1981.03it/s, agent_0/loss=1.136, agent_1/loss=4.666, agent_2/loss=4.823, env_step=450000, len=75, n/ep=70, n/st=5000, rew=-25.77]                           \n"
     ]
    },
    {
     "name": "stdout",
     "output_type": "stream",
     "text": [
      "Epoch #18: test_reward: -26.386160 ± 7.609387, best_reward: -21.800845 ± 4.701187 in #5\n"
     ]
    },
    {
     "name": "stderr",
     "output_type": "stream",
     "text": [
      "Epoch #19: 25001it [00:13, 1794.50it/s, agent_0/loss=1.162, agent_1/loss=4.479, agent_2/loss=4.871, env_step=475000, len=75, n/ep=70, n/st=5000, rew=-24.92]                           \n"
     ]
    },
    {
     "name": "stdout",
     "output_type": "stream",
     "text": [
      "Epoch #19: test_reward: -23.976548 ± 7.185846, best_reward: -21.800845 ± 4.701187 in #5\n"
     ]
    },
    {
     "name": "stderr",
     "output_type": "stream",
     "text": [
      "Epoch #20: 25001it [00:12, 1923.31it/s, agent_0/loss=1.085, agent_1/loss=4.391, agent_2/loss=4.323, env_step=500000, len=75, n/ep=60, n/st=5000, rew=-24.27]                           \n"
     ]
    },
    {
     "name": "stdout",
     "output_type": "stream",
     "text": [
      "Steps Policy Saved  120\n",
      "Epoch #20: test_reward: -25.291711 ± 7.316747, best_reward: -21.800845 ± 4.701187 in #5\n"
     ]
    },
    {
     "name": "stderr",
     "output_type": "stream",
     "text": [
      "Epoch #21: 25001it [00:13, 1823.85it/s, agent_0/loss=1.286, agent_1/loss=4.734, agent_2/loss=4.776, env_step=525000, len=75, n/ep=70, n/st=5000, rew=-23.33]                           \n"
     ]
    },
    {
     "name": "stdout",
     "output_type": "stream",
     "text": [
      "Epoch #21: test_reward: -26.673417 ± 8.046495, best_reward: -21.800845 ± 4.701187 in #5\n"
     ]
    },
    {
     "name": "stderr",
     "output_type": "stream",
     "text": [
      "Epoch #22: 25001it [00:13, 1862.20it/s, agent_0/loss=1.128, agent_1/loss=4.517, agent_2/loss=4.782, env_step=550000, len=75, n/ep=70, n/st=5000, rew=-23.74]                           \n"
     ]
    },
    {
     "name": "stdout",
     "output_type": "stream",
     "text": [
      "Epoch #22: test_reward: -24.029168 ± 8.668722, best_reward: -21.800845 ± 4.701187 in #5\n"
     ]
    },
    {
     "name": "stderr",
     "output_type": "stream",
     "text": [
      "Epoch #23: 25001it [00:14, 1782.30it/s, agent_0/loss=1.121, agent_1/loss=4.224, agent_2/loss=4.455, env_step=575000, len=75, n/ep=60, n/st=5000, rew=-24.74]                           \n"
     ]
    },
    {
     "name": "stdout",
     "output_type": "stream",
     "text": [
      "Epoch #23: test_reward: -22.595780 ± 5.885327, best_reward: -21.800845 ± 4.701187 in #5\n"
     ]
    },
    {
     "name": "stderr",
     "output_type": "stream",
     "text": [
      "Epoch #24: 25001it [00:13, 1852.71it/s, agent_0/loss=1.140, agent_1/loss=4.522, agent_2/loss=4.485, env_step=600000, len=75, n/ep=70, n/st=5000, rew=-24.46]                           \n"
     ]
    },
    {
     "name": "stdout",
     "output_type": "stream",
     "text": [
      "Epoch #24: test_reward: -24.002158 ± 6.681380, best_reward: -21.800845 ± 4.701187 in #5\n"
     ]
    },
    {
     "name": "stderr",
     "output_type": "stream",
     "text": [
      "Epoch #25: 25001it [00:13, 1811.51it/s, agent_0/loss=1.143, agent_1/loss=4.584, agent_2/loss=4.325, env_step=625000, len=75, n/ep=70, n/st=5000, rew=-24.03]                           \n"
     ]
    },
    {
     "name": "stdout",
     "output_type": "stream",
     "text": [
      "Steps Policy Saved  150\n",
      "Epoch #25: test_reward: -25.982572 ± 9.189334, best_reward: -21.800845 ± 4.701187 in #5\n"
     ]
    },
    {
     "name": "stderr",
     "output_type": "stream",
     "text": [
      "Epoch #26: 25001it [00:14, 1756.93it/s, agent_0/loss=1.060, agent_1/loss=4.098, agent_2/loss=4.251, env_step=650000, len=75, n/ep=60, n/st=5000, rew=-24.41]                           \n"
     ]
    },
    {
     "name": "stdout",
     "output_type": "stream",
     "text": [
      "Epoch #26: test_reward: -26.897340 ± 7.662981, best_reward: -21.800845 ± 4.701187 in #5\n"
     ]
    },
    {
     "name": "stderr",
     "output_type": "stream",
     "text": [
      "Epoch #27: 25001it [00:14, 1701.17it/s, agent_0/loss=1.019, agent_1/loss=3.936, agent_2/loss=4.104, env_step=675000, len=75, n/ep=70, n/st=5000, rew=-24.82]                           \n"
     ]
    },
    {
     "name": "stdout",
     "output_type": "stream",
     "text": [
      "Epoch #27: test_reward: -24.472946 ± 7.668221, best_reward: -21.800845 ± 4.701187 in #5\n"
     ]
    },
    {
     "name": "stderr",
     "output_type": "stream",
     "text": [
      "Epoch #28: 25001it [00:13, 1898.17it/s, agent_0/loss=1.051, agent_1/loss=4.037, agent_2/loss=4.136, env_step=700000, len=75, n/ep=70, n/st=5000, rew=-25.17]                           \n"
     ]
    },
    {
     "name": "stdout",
     "output_type": "stream",
     "text": [
      "Epoch #28: test_reward: -24.678652 ± 8.631463, best_reward: -21.800845 ± 4.701187 in #5\n"
     ]
    },
    {
     "name": "stderr",
     "output_type": "stream",
     "text": [
      "Epoch #29: 25001it [00:12, 1932.83it/s, agent_0/loss=1.085, agent_1/loss=3.914, agent_2/loss=4.052, env_step=725000, len=75, n/ep=60, n/st=5000, rew=-25.18]                           \n"
     ]
    },
    {
     "name": "stdout",
     "output_type": "stream",
     "text": [
      "Epoch #29: test_reward: -24.885482 ± 7.550542, best_reward: -21.800845 ± 4.701187 in #5\n"
     ]
    },
    {
     "name": "stderr",
     "output_type": "stream",
     "text": [
      "Epoch #30: 25001it [00:13, 1848.04it/s, agent_0/loss=1.005, agent_1/loss=4.077, agent_2/loss=4.023, env_step=750000, len=75, n/ep=70, n/st=5000, rew=-26.43]                           \n"
     ]
    },
    {
     "name": "stdout",
     "output_type": "stream",
     "text": [
      "Steps Policy Saved  180\n",
      "Epoch #30: test_reward: -24.014413 ± 8.541785, best_reward: -21.800845 ± 4.701187 in #5\n"
     ]
    },
    {
     "name": "stderr",
     "output_type": "stream",
     "text": [
      "Epoch #31: 25001it [00:13, 1888.47it/s, agent_0/loss=0.989, agent_1/loss=4.005, agent_2/loss=3.934, env_step=775000, len=75, n/ep=70, n/st=5000, rew=-26.86]                           \n"
     ]
    },
    {
     "name": "stdout",
     "output_type": "stream",
     "text": [
      "Epoch #31: test_reward: -24.614041 ± 6.711253, best_reward: -21.800845 ± 4.701187 in #5\n"
     ]
    },
    {
     "name": "stderr",
     "output_type": "stream",
     "text": [
      "Epoch #32: 25001it [00:12, 1931.14it/s, agent_0/loss=0.921, agent_1/loss=4.016, agent_2/loss=4.111, env_step=800000, len=75, n/ep=60, n/st=5000, rew=-24.23]                           \n"
     ]
    },
    {
     "name": "stdout",
     "output_type": "stream",
     "text": [
      "Epoch #32: test_reward: -22.708160 ± 6.329089, best_reward: -21.800845 ± 4.701187 in #5\n"
     ]
    },
    {
     "name": "stderr",
     "output_type": "stream",
     "text": [
      "Epoch #33: 25001it [00:13, 1853.60it/s, agent_0/loss=0.989, agent_1/loss=3.994, agent_2/loss=4.164, env_step=825000, len=75, n/ep=70, n/st=5000, rew=-22.76]                           \n"
     ]
    },
    {
     "name": "stdout",
     "output_type": "stream",
     "text": [
      "Epoch #33: test_reward: -27.105521 ± 8.758653, best_reward: -21.800845 ± 4.701187 in #5\n"
     ]
    },
    {
     "name": "stderr",
     "output_type": "stream",
     "text": [
      "Epoch #34: 25001it [00:12, 1936.01it/s, agent_0/loss=0.963, agent_1/loss=4.098, agent_2/loss=3.804, env_step=850000, len=75, n/ep=70, n/st=5000, rew=-22.70]                           \n"
     ]
    },
    {
     "name": "stdout",
     "output_type": "stream",
     "text": [
      "Epoch #34: test_reward: -24.024483 ± 8.087622, best_reward: -21.800845 ± 4.701187 in #5\n"
     ]
    },
    {
     "name": "stderr",
     "output_type": "stream",
     "text": [
      "Epoch #35: 25001it [00:12, 1959.41it/s, agent_0/loss=1.016, agent_1/loss=3.745, agent_2/loss=3.930, env_step=875000, len=75, n/ep=60, n/st=5000, rew=-23.49]                           \n"
     ]
    },
    {
     "name": "stdout",
     "output_type": "stream",
     "text": [
      "Steps Policy Saved  210\n",
      "Epoch #35: test_reward: -23.778391 ± 6.603443, best_reward: -21.800845 ± 4.701187 in #5\n"
     ]
    },
    {
     "name": "stderr",
     "output_type": "stream",
     "text": [
      "Epoch #36: 25001it [00:13, 1798.51it/s, agent_0/loss=0.946, agent_1/loss=4.089, agent_2/loss=3.797, env_step=900000, len=75, n/ep=70, n/st=5000, rew=-24.04]                           \n"
     ]
    },
    {
     "name": "stdout",
     "output_type": "stream",
     "text": [
      "Epoch #36: test_reward: -24.687897 ± 7.822769, best_reward: -21.800845 ± 4.701187 in #5\n"
     ]
    },
    {
     "name": "stderr",
     "output_type": "stream",
     "text": [
      "Epoch #37: 25001it [00:13, 1860.22it/s, agent_0/loss=0.996, agent_1/loss=3.830, agent_2/loss=3.744, env_step=925000, len=75, n/ep=70, n/st=5000, rew=-22.49]                           \n"
     ]
    },
    {
     "name": "stdout",
     "output_type": "stream",
     "text": [
      "Epoch #37: test_reward: -22.999036 ± 5.675187, best_reward: -21.800845 ± 4.701187 in #5\n"
     ]
    },
    {
     "name": "stderr",
     "output_type": "stream",
     "text": [
      "Epoch #38: 25001it [00:13, 1864.15it/s, agent_0/loss=0.965, agent_1/loss=3.743, agent_2/loss=3.835, env_step=950000, len=75, n/ep=60, n/st=5000, rew=-23.08]                           \n"
     ]
    },
    {
     "name": "stdout",
     "output_type": "stream",
     "text": [
      "Epoch #38: test_reward: -22.445793 ± 6.700429, best_reward: -21.800845 ± 4.701187 in #5\n"
     ]
    },
    {
     "name": "stderr",
     "output_type": "stream",
     "text": [
      "Epoch #39: 25001it [00:14, 1770.71it/s, agent_0/loss=0.936, agent_1/loss=3.931, agent_2/loss=3.527, env_step=975000, len=75, n/ep=70, n/st=5000, rew=-23.40]                           \n"
     ]
    },
    {
     "name": "stdout",
     "output_type": "stream",
     "text": [
      "Epoch #39: test_reward: -23.406530 ± 7.120128, best_reward: -21.800845 ± 4.701187 in #5\n"
     ]
    },
    {
     "name": "stderr",
     "output_type": "stream",
     "text": [
      "Epoch #40: 25001it [00:14, 1702.70it/s, agent_0/loss=0.867, agent_1/loss=3.563, agent_2/loss=3.665, env_step=1000000, len=75, n/ep=70, n/st=5000, rew=-23.69]                           \n"
     ]
    },
    {
     "name": "stdout",
     "output_type": "stream",
     "text": [
      "Steps Policy Saved  240\n",
      "Epoch #40: test_reward: -24.770804 ± 7.131076, best_reward: -21.800845 ± 4.701187 in #5\n"
     ]
    },
    {
     "name": "stderr",
     "output_type": "stream",
     "text": [
      "Epoch #41: 25001it [00:14, 1756.07it/s, agent_0/loss=0.935, agent_1/loss=3.726, agent_2/loss=3.725, env_step=1025000, len=75, n/ep=60, n/st=5000, rew=-23.24]                           \n"
     ]
    },
    {
     "name": "stdout",
     "output_type": "stream",
     "text": [
      "Epoch #41: test_reward: -23.196835 ± 6.527367, best_reward: -21.800845 ± 4.701187 in #5\n"
     ]
    },
    {
     "name": "stderr",
     "output_type": "stream",
     "text": [
      "Epoch #42: 25001it [00:13, 1793.38it/s, agent_0/loss=0.926, agent_1/loss=3.525, agent_2/loss=3.605, env_step=1050000, len=75, n/ep=70, n/st=5000, rew=-23.09]                           \n"
     ]
    },
    {
     "name": "stdout",
     "output_type": "stream",
     "text": [
      "Epoch #42: test_reward: -22.350942 ± 6.121632, best_reward: -21.800845 ± 4.701187 in #5\n"
     ]
    },
    {
     "name": "stderr",
     "output_type": "stream",
     "text": [
      "Epoch #43: 25001it [00:14, 1776.55it/s, agent_0/loss=0.910, agent_1/loss=3.559, agent_2/loss=3.537, env_step=1075000, len=75, n/ep=70, n/st=5000, rew=-22.86]                           \n"
     ]
    },
    {
     "name": "stdout",
     "output_type": "stream",
     "text": [
      "Epoch #43: test_reward: -24.328476 ± 6.809702, best_reward: -21.800845 ± 4.701187 in #5\n"
     ]
    },
    {
     "name": "stderr",
     "output_type": "stream",
     "text": [
      "Epoch #44:  40%|####      | 10000/25000 [00:07<00:11, 1277.41it/s, agent_0/loss=0.915, agent_1/loss=3.451, agent_2/loss=3.639, env_step=1085000, len=75, n/ep=60, n/st=5000, rew=-23.81]\n"
     ]
    },
    {
     "ename": "KeyboardInterrupt",
     "evalue": "",
     "output_type": "error",
     "traceback": [
      "\u001b[1;31m---------------------------------------------------------------------------\u001b[0m",
      "\u001b[1;31mKeyboardInterrupt\u001b[0m                         Traceback (most recent call last)",
      "Cell \u001b[1;32mIn[2], line 189\u001b[0m\n\u001b[0;32m    166\u001b[0m \u001b[38;5;66;03m# # ======== Step 5: Run the trainer =========\u001b[39;00m\n\u001b[0;32m    167\u001b[0m offPolicyTrainer \u001b[38;5;241m=\u001b[39m OffpolicyTrainer(\n\u001b[0;32m    168\u001b[0m     policy\u001b[38;5;241m=\u001b[39mpolicy,\n\u001b[0;32m    169\u001b[0m     train_collector\u001b[38;5;241m=\u001b[39mtrain_collector,\n\u001b[1;32m   (...)\u001b[0m\n\u001b[0;32m    186\u001b[0m            \n\u001b[0;32m    187\u001b[0m     )\n\u001b[1;32m--> 189\u001b[0m result \u001b[38;5;241m=\u001b[39m \u001b[43moffPolicyTrainer\u001b[49m\u001b[38;5;241;43m.\u001b[39;49m\u001b[43mrun\u001b[49m\u001b[43m(\u001b[49m\u001b[43m)\u001b[49m\n\u001b[0;32m    190\u001b[0m writer\u001b[38;5;241m.\u001b[39mclose()\n\u001b[0;32m    191\u001b[0m \u001b[38;5;66;03m# return result, policy.policies[agents[1]]\u001b[39;00m\n",
      "File \u001b[1;32md:\\Python310\\lib\\site-packages\\tianshou\\trainer\\base.py:441\u001b[0m, in \u001b[0;36mBaseTrainer.run\u001b[1;34m(self)\u001b[0m\n\u001b[0;32m    439\u001b[0m \u001b[38;5;28;01mtry\u001b[39;00m:\n\u001b[0;32m    440\u001b[0m     \u001b[38;5;28mself\u001b[39m\u001b[38;5;241m.\u001b[39mis_run \u001b[38;5;241m=\u001b[39m \u001b[38;5;28;01mTrue\u001b[39;00m\n\u001b[1;32m--> 441\u001b[0m     \u001b[43mdeque\u001b[49m\u001b[43m(\u001b[49m\u001b[38;5;28;43mself\u001b[39;49m\u001b[43m,\u001b[49m\u001b[43m \u001b[49m\u001b[43mmaxlen\u001b[49m\u001b[38;5;241;43m=\u001b[39;49m\u001b[38;5;241;43m0\u001b[39;49m\u001b[43m)\u001b[49m  \u001b[38;5;66;03m# feed the entire iterator into a zero-length deque\u001b[39;00m\n\u001b[0;32m    442\u001b[0m     info \u001b[38;5;241m=\u001b[39m gather_info(\n\u001b[0;32m    443\u001b[0m         \u001b[38;5;28mself\u001b[39m\u001b[38;5;241m.\u001b[39mstart_time, \u001b[38;5;28mself\u001b[39m\u001b[38;5;241m.\u001b[39mtrain_collector, \u001b[38;5;28mself\u001b[39m\u001b[38;5;241m.\u001b[39mtest_collector,\n\u001b[0;32m    444\u001b[0m         \u001b[38;5;28mself\u001b[39m\u001b[38;5;241m.\u001b[39mbest_reward, \u001b[38;5;28mself\u001b[39m\u001b[38;5;241m.\u001b[39mbest_reward_std\n\u001b[0;32m    445\u001b[0m     )\n\u001b[0;32m    446\u001b[0m \u001b[38;5;28;01mfinally\u001b[39;00m:\n",
      "File \u001b[1;32md:\\Python310\\lib\\site-packages\\tianshou\\trainer\\base.py:288\u001b[0m, in \u001b[0;36mBaseTrainer.__next__\u001b[1;34m(self)\u001b[0m\n\u001b[0;32m    286\u001b[0m result: Dict[\u001b[38;5;28mstr\u001b[39m, Any] \u001b[38;5;241m=\u001b[39m \u001b[38;5;28mdict\u001b[39m()\n\u001b[0;32m    287\u001b[0m \u001b[38;5;28;01mif\u001b[39;00m \u001b[38;5;28mself\u001b[39m\u001b[38;5;241m.\u001b[39mtrain_collector \u001b[38;5;129;01mis\u001b[39;00m \u001b[38;5;129;01mnot\u001b[39;00m \u001b[38;5;28;01mNone\u001b[39;00m:\n\u001b[1;32m--> 288\u001b[0m     data, result, \u001b[38;5;28mself\u001b[39m\u001b[38;5;241m.\u001b[39mstop_fn_flag \u001b[38;5;241m=\u001b[39m \u001b[38;5;28;43mself\u001b[39;49m\u001b[38;5;241;43m.\u001b[39;49m\u001b[43mtrain_step\u001b[49m\u001b[43m(\u001b[49m\u001b[43m)\u001b[49m\n\u001b[0;32m    289\u001b[0m     t\u001b[38;5;241m.\u001b[39mupdate(result[\u001b[38;5;124m\"\u001b[39m\u001b[38;5;124mn/st\u001b[39m\u001b[38;5;124m\"\u001b[39m])\n\u001b[0;32m    290\u001b[0m     \u001b[38;5;28;01mif\u001b[39;00m \u001b[38;5;28mself\u001b[39m\u001b[38;5;241m.\u001b[39mstop_fn_flag:\n",
      "File \u001b[1;32md:\\Python310\\lib\\site-packages\\tianshou\\trainer\\base.py:384\u001b[0m, in \u001b[0;36mBaseTrainer.train_step\u001b[1;34m(self)\u001b[0m\n\u001b[0;32m    382\u001b[0m \u001b[38;5;28;01mif\u001b[39;00m \u001b[38;5;28mself\u001b[39m\u001b[38;5;241m.\u001b[39mtrain_fn:\n\u001b[0;32m    383\u001b[0m     \u001b[38;5;28mself\u001b[39m\u001b[38;5;241m.\u001b[39mtrain_fn(\u001b[38;5;28mself\u001b[39m\u001b[38;5;241m.\u001b[39mepoch, \u001b[38;5;28mself\u001b[39m\u001b[38;5;241m.\u001b[39menv_step)\n\u001b[1;32m--> 384\u001b[0m result \u001b[38;5;241m=\u001b[39m \u001b[38;5;28;43mself\u001b[39;49m\u001b[38;5;241;43m.\u001b[39;49m\u001b[43mtrain_collector\u001b[49m\u001b[38;5;241;43m.\u001b[39;49m\u001b[43mcollect\u001b[49m\u001b[43m(\u001b[49m\n\u001b[0;32m    385\u001b[0m \u001b[43m    \u001b[49m\u001b[43mn_step\u001b[49m\u001b[38;5;241;43m=\u001b[39;49m\u001b[38;5;28;43mself\u001b[39;49m\u001b[38;5;241;43m.\u001b[39;49m\u001b[43mstep_per_collect\u001b[49m\u001b[43m,\u001b[49m\u001b[43m \u001b[49m\u001b[43mn_episode\u001b[49m\u001b[38;5;241;43m=\u001b[39;49m\u001b[38;5;28;43mself\u001b[39;49m\u001b[38;5;241;43m.\u001b[39;49m\u001b[43mepisode_per_collect\u001b[49m\n\u001b[0;32m    386\u001b[0m \u001b[43m\u001b[49m\u001b[43m)\u001b[49m\n\u001b[0;32m    387\u001b[0m \u001b[38;5;28;01mif\u001b[39;00m result[\u001b[38;5;124m\"\u001b[39m\u001b[38;5;124mn/ep\u001b[39m\u001b[38;5;124m\"\u001b[39m] \u001b[38;5;241m>\u001b[39m \u001b[38;5;241m0\u001b[39m \u001b[38;5;129;01mand\u001b[39;00m \u001b[38;5;28mself\u001b[39m\u001b[38;5;241m.\u001b[39mreward_metric:\n\u001b[0;32m    388\u001b[0m     rew \u001b[38;5;241m=\u001b[39m \u001b[38;5;28mself\u001b[39m\u001b[38;5;241m.\u001b[39mreward_metric(result[\u001b[38;5;124m\"\u001b[39m\u001b[38;5;124mrews\u001b[39m\u001b[38;5;124m\"\u001b[39m])\n",
      "File \u001b[1;32md:\\Python310\\lib\\site-packages\\tianshou\\data\\collector.py:279\u001b[0m, in \u001b[0;36mCollector.collect\u001b[1;34m(self, n_step, n_episode, random, render, no_grad, gym_reset_kwargs)\u001b[0m\n\u001b[0;32m    276\u001b[0m \u001b[38;5;28;01mif\u001b[39;00m no_grad:\n\u001b[0;32m    277\u001b[0m     \u001b[38;5;28;01mwith\u001b[39;00m torch\u001b[38;5;241m.\u001b[39mno_grad():  \u001b[38;5;66;03m# faster than retain_grad version\u001b[39;00m\n\u001b[0;32m    278\u001b[0m         \u001b[38;5;66;03m# self.data.obs will be used by agent to get result\u001b[39;00m\n\u001b[1;32m--> 279\u001b[0m         result \u001b[38;5;241m=\u001b[39m \u001b[38;5;28;43mself\u001b[39;49m\u001b[38;5;241;43m.\u001b[39;49m\u001b[43mpolicy\u001b[49m\u001b[43m(\u001b[49m\u001b[38;5;28;43mself\u001b[39;49m\u001b[38;5;241;43m.\u001b[39;49m\u001b[43mdata\u001b[49m\u001b[43m,\u001b[49m\u001b[43m \u001b[49m\u001b[43mlast_state\u001b[49m\u001b[43m)\u001b[49m\n\u001b[0;32m    280\u001b[0m \u001b[38;5;28;01melse\u001b[39;00m:\n\u001b[0;32m    281\u001b[0m     result \u001b[38;5;241m=\u001b[39m \u001b[38;5;28mself\u001b[39m\u001b[38;5;241m.\u001b[39mpolicy(\u001b[38;5;28mself\u001b[39m\u001b[38;5;241m.\u001b[39mdata, last_state)\n",
      "File \u001b[1;32md:\\Python310\\lib\\site-packages\\torch\\nn\\modules\\module.py:1518\u001b[0m, in \u001b[0;36mModule._wrapped_call_impl\u001b[1;34m(self, *args, **kwargs)\u001b[0m\n\u001b[0;32m   1516\u001b[0m     \u001b[38;5;28;01mreturn\u001b[39;00m \u001b[38;5;28mself\u001b[39m\u001b[38;5;241m.\u001b[39m_compiled_call_impl(\u001b[38;5;241m*\u001b[39margs, \u001b[38;5;241m*\u001b[39m\u001b[38;5;241m*\u001b[39mkwargs)  \u001b[38;5;66;03m# type: ignore[misc]\u001b[39;00m\n\u001b[0;32m   1517\u001b[0m \u001b[38;5;28;01melse\u001b[39;00m:\n\u001b[1;32m-> 1518\u001b[0m     \u001b[38;5;28;01mreturn\u001b[39;00m \u001b[38;5;28mself\u001b[39m\u001b[38;5;241m.\u001b[39m_call_impl(\u001b[38;5;241m*\u001b[39margs, \u001b[38;5;241m*\u001b[39m\u001b[38;5;241m*\u001b[39mkwargs)\n",
      "File \u001b[1;32md:\\Python310\\lib\\site-packages\\torch\\nn\\modules\\module.py:1527\u001b[0m, in \u001b[0;36mModule._call_impl\u001b[1;34m(self, *args, **kwargs)\u001b[0m\n\u001b[0;32m   1522\u001b[0m \u001b[38;5;66;03m# If we don't have any hooks, we want to skip the rest of the logic in\u001b[39;00m\n\u001b[0;32m   1523\u001b[0m \u001b[38;5;66;03m# this function, and just call forward.\u001b[39;00m\n\u001b[0;32m   1524\u001b[0m \u001b[38;5;28;01mif\u001b[39;00m \u001b[38;5;129;01mnot\u001b[39;00m (\u001b[38;5;28mself\u001b[39m\u001b[38;5;241m.\u001b[39m_backward_hooks \u001b[38;5;129;01mor\u001b[39;00m \u001b[38;5;28mself\u001b[39m\u001b[38;5;241m.\u001b[39m_backward_pre_hooks \u001b[38;5;129;01mor\u001b[39;00m \u001b[38;5;28mself\u001b[39m\u001b[38;5;241m.\u001b[39m_forward_hooks \u001b[38;5;129;01mor\u001b[39;00m \u001b[38;5;28mself\u001b[39m\u001b[38;5;241m.\u001b[39m_forward_pre_hooks\n\u001b[0;32m   1525\u001b[0m         \u001b[38;5;129;01mor\u001b[39;00m _global_backward_pre_hooks \u001b[38;5;129;01mor\u001b[39;00m _global_backward_hooks\n\u001b[0;32m   1526\u001b[0m         \u001b[38;5;129;01mor\u001b[39;00m _global_forward_hooks \u001b[38;5;129;01mor\u001b[39;00m _global_forward_pre_hooks):\n\u001b[1;32m-> 1527\u001b[0m     \u001b[38;5;28;01mreturn\u001b[39;00m forward_call(\u001b[38;5;241m*\u001b[39margs, \u001b[38;5;241m*\u001b[39m\u001b[38;5;241m*\u001b[39mkwargs)\n\u001b[0;32m   1529\u001b[0m \u001b[38;5;28;01mtry\u001b[39;00m:\n\u001b[0;32m   1530\u001b[0m     result \u001b[38;5;241m=\u001b[39m \u001b[38;5;28;01mNone\u001b[39;00m\n",
      "File \u001b[1;32md:\\Python310\\lib\\site-packages\\tianshou\\policy\\multiagent\\mapolicy.py:136\u001b[0m, in \u001b[0;36mMultiAgentPolicyManager.forward\u001b[1;34m(self, batch, state, **kwargs)\u001b[0m\n\u001b[0;32m    134\u001b[0m     results\u001b[38;5;241m.\u001b[39mappend((\u001b[38;5;28;01mFalse\u001b[39;00m, np\u001b[38;5;241m.\u001b[39marray([\u001b[38;5;241m-\u001b[39m\u001b[38;5;241m1\u001b[39m]), Batch(), Batch(), Batch()))\n\u001b[0;32m    135\u001b[0m     \u001b[38;5;28;01mcontinue\u001b[39;00m\n\u001b[1;32m--> 136\u001b[0m tmp_batch \u001b[38;5;241m=\u001b[39m \u001b[43mbatch\u001b[49m\u001b[43m[\u001b[49m\u001b[43magent_index\u001b[49m\u001b[43m]\u001b[49m\n\u001b[0;32m    137\u001b[0m \u001b[38;5;28;01mif\u001b[39;00m \u001b[38;5;28misinstance\u001b[39m(tmp_batch\u001b[38;5;241m.\u001b[39mrew, np\u001b[38;5;241m.\u001b[39mndarray):\n\u001b[0;32m    138\u001b[0m     \u001b[38;5;66;03m# reward can be empty Batch (after initial reset) or nparray.\u001b[39;00m\n\u001b[0;32m    139\u001b[0m     tmp_batch\u001b[38;5;241m.\u001b[39mrew \u001b[38;5;241m=\u001b[39m tmp_batch\u001b[38;5;241m.\u001b[39mrew[:, \u001b[38;5;28mself\u001b[39m\u001b[38;5;241m.\u001b[39magent_idx[agent_id]]\n",
      "File \u001b[1;32md:\\Python310\\lib\\site-packages\\tianshou\\data\\batch.py:250\u001b[0m, in \u001b[0;36mBatch.__getitem__\u001b[1;34m(self, index)\u001b[0m\n\u001b[0;32m    248\u001b[0m             new_batch\u001b[38;5;241m.\u001b[39m\u001b[38;5;18m__dict__\u001b[39m[batch_key] \u001b[38;5;241m=\u001b[39m Batch()\n\u001b[0;32m    249\u001b[0m         \u001b[38;5;28;01melse\u001b[39;00m:\n\u001b[1;32m--> 250\u001b[0m             new_batch\u001b[38;5;241m.\u001b[39m\u001b[38;5;18m__dict__\u001b[39m[batch_key] \u001b[38;5;241m=\u001b[39m \u001b[43mobj\u001b[49m\u001b[43m[\u001b[49m\u001b[43mindex\u001b[49m\u001b[43m]\u001b[49m\n\u001b[0;32m    251\u001b[0m     \u001b[38;5;28;01mreturn\u001b[39;00m new_batch\n\u001b[0;32m    252\u001b[0m \u001b[38;5;28;01melse\u001b[39;00m:\n",
      "File \u001b[1;32md:\\Python310\\lib\\site-packages\\tianshou\\data\\batch.py:250\u001b[0m, in \u001b[0;36mBatch.__getitem__\u001b[1;34m(self, index)\u001b[0m\n\u001b[0;32m    248\u001b[0m             new_batch\u001b[38;5;241m.\u001b[39m\u001b[38;5;18m__dict__\u001b[39m[batch_key] \u001b[38;5;241m=\u001b[39m Batch()\n\u001b[0;32m    249\u001b[0m         \u001b[38;5;28;01melse\u001b[39;00m:\n\u001b[1;32m--> 250\u001b[0m             new_batch\u001b[38;5;241m.\u001b[39m\u001b[38;5;18m__dict__\u001b[39m[batch_key] \u001b[38;5;241m=\u001b[39m obj[index]\n\u001b[0;32m    251\u001b[0m     \u001b[38;5;28;01mreturn\u001b[39;00m new_batch\n\u001b[0;32m    252\u001b[0m \u001b[38;5;28;01melse\u001b[39;00m:\n",
      "\u001b[1;31mKeyboardInterrupt\u001b[0m: "
     ]
    }
   ],
   "source": [
    "if __name__ == \"__main__\":\n",
    "                        \n",
    "    torch.set_grad_enabled(True) \n",
    "   \n",
    "    # ======== Step 1: Environment setup =========\n",
    "    train_envs = DummyVectorEnv([_get_env for _ in range(train_env_num)])\n",
    "    test_envs = DummyVectorEnv([_get_env for _ in range(test_env_num)]) \n",
    "\n",
    "    # seed\n",
    "    seed = 0\n",
    "    np.random.seed(seed)\n",
    "    \n",
    "    torch.manual_seed(seed)\n",
    "\n",
    "    train_envs.seed(seed)\n",
    "    test_envs.seed(seed)\n",
    "\n",
    "    # ======== Step 2: Agent setup =========\n",
    "    policy, optim, agents = _get_agents()    \n",
    "\n",
    "    if False:\n",
    "        agents_buffers_training = {agent : \n",
    "                           PrioritizedVectorReplayBuffer( 30_000, \n",
    "                                                          len(train_envs), \n",
    "                                                          alpha=0.6, \n",
    "                                                          beta=0.4) \n",
    "                                                          for agent in agents\n",
    "                         }\n",
    "        agents_buffers_test = {agent : \n",
    "                           PrioritizedVectorReplayBuffer( 30_000, \n",
    "                                                          len(train_envs), \n",
    "                                                          alpha=0.6, \n",
    "                                                          beta=0.4) \n",
    "                                                          for agent in agents\n",
    "                         }\n",
    "    \n",
    "        # ======== Step 3: Collector setup =========\n",
    "        train_collector = CollectorMA.CollectorMA(\n",
    "            policy,\n",
    "            train_envs,\n",
    "            agents_buffers_training,                        \n",
    "            exploration_noise=True             \n",
    "        )\n",
    "        test_collector = CollectorMA.CollectorMA(policy, test_envs, agents_buffers_test, exploration_noise=True)\n",
    "\n",
    "    if True:\n",
    "         # ======== Step 3: Collector setup =========\n",
    "        train_collector = Collector(\n",
    "        policy,\n",
    "        train_envs,\n",
    "        # VectorReplayBuffer(300_000, len(train_envs)),\n",
    "        PrioritizedVectorReplayBuffer( 300_000, len(train_envs), alpha=0.6, beta=0.4) , \n",
    "        #ListReplayBuffer(100000)       \n",
    "        # buffer = StateMemoryVectorReplayBuffer(\n",
    "        #         300_000,\n",
    "        #         len(train_envs),  # Assuming train_envs is your vectorized environment\n",
    "        #         memory_size=10,                \n",
    "        #     ),\n",
    "        exploration_noise=True             \n",
    "        )\n",
    "        test_collector = Collector(policy, test_envs, exploration_noise=True)\n",
    "        \n",
    "    print(\"Buffer Warming Up \")    \n",
    "    for i in range(trainer_params[\"warmup_size\"]):#int(trainer_params['batch_size'] / (300 * 10 ) )):\n",
    "        \n",
    "        train_collector.collect(n_episode=train_env_num)#,random=True) #trainer_params['batch_size'] * train_env_num))\n",
    "        #train_collector.collect(n_step=300 * 10)\n",
    "        print(\".\", end=\"\") \n",
    "    \n",
    "    # len_buffer = len(train_collector.buffer) / (Spread_Config[\"max_cycles\"] * Spread_Config[\"N\"])\n",
    "    # print(\"\\nBuffer Lenght: \", len_buffer ) \n",
    "    \n",
    "    info = { \"Buffer\"  : \"PriorizedReplayBuffer\", \" Warmup_ep\" : runConfig[\"warmup_size\"]}\n",
    "    # ======== tensorboard logging setup =========                       \n",
    "    logger = WandbLogger(\n",
    "        train_interval = runConfig[\"max_cycles\"] * runConfig[\"N\"] ,\n",
    "        test_interval = 1,#runConfig[\"max_cycles\"] * runConfig[\"n_pursuers\"],\n",
    "        update_interval = runConfig[\"max_cycles\"],\n",
    "        save_interval = 1,\n",
    "        write_flush = True,\n",
    "        project = \"Spread_Eval01\",\n",
    "        name = log_name,\n",
    "        entity = None,\n",
    "        run_id = log_name,\n",
    "        config = runConfig,\n",
    "        monitor_gym = True )\n",
    "    \n",
    "    writer = SummaryWriter(log_path)    \n",
    "    writer.add_text(\"args\", str(runConfig))    \n",
    "    logger.load(writer)\n",
    "\n",
    "    \n",
    "    global_step_holder = [0] \n",
    "    \n",
    "    \n",
    "    # ======== Step 4: Callback functions setup =========\n",
    "    def save_best_fn(policy):                \n",
    "        \n",
    "        if Policy_Config[\"same_policy\"]:\n",
    "            torch.save(policy.policies[agents[0]].state_dict(), model_save_path + \"_\" + str(global_step_holder[0]) + \"_BestRew.pth\")\n",
    "            print(\"Best Saved Rew\" , str(global_step_holder[0]))\n",
    "        \n",
    "        else:\n",
    "            for n,agent in enumerate(agents):\n",
    "                torch.save(policy.policies[agent].state_dict(), model_save_path + \"_\" + str(global_step_holder[0]) + \"_\" + agent + \".pth\")\n",
    "            \n",
    "            print(\"Bests Saved Rew\" , str(global_step_holder[0]))\n",
    "        \n",
    "    def save_test_best_fn(policy):                \n",
    "        \n",
    "        if Policy_Config[\"same_policy\"]:\n",
    "            torch.save(policy.policies[agents[0]].state_dict(), model_save_path + \"_\" + str(global_step_holder[0]) + \"_BestLen.pth\")\n",
    "            print(\"Best Saved Length\" , str(global_step_holder[0]))\n",
    "        \n",
    "        else:\n",
    "            for n,agent in enumerate(agents):\n",
    "                torch.save(policy.policies[agent].state_dict(), model_save_path + \"_\" + str(global_step_holder[0]) + \"_\" + agent + \".pth\")\n",
    "            \n",
    "            print(\"Best Saved Length\" , str(global_step_holder[0]))\n",
    "        \n",
    "\n",
    "    def stop_fn(mean_rewards):\n",
    "        return mean_rewards >= 99999939.0\n",
    "\n",
    "    def train_fn(epoch, env_step):\n",
    "        epsilon = trainer_params['tn_eps_max'] - (trainer_params['tn_eps_max'] - trainer_params['tn_eps_max']/100)*(epoch/trainer_params['max_epoch'])          \n",
    "        if Policy_Config[\"same_policy\"]:\n",
    "            policy.policies[agents[0]].set_eps(epsilon)\n",
    "        else:\n",
    "            for agent in agents:\n",
    "                policy.policies[agent].set_eps(epsilon)\n",
    "                \n",
    "        \n",
    "        # if env_step % 500 == 0:\n",
    "            # logger.write(\"train/env_step\", env_step, {\"train/eps\": eps})\n",
    "\n",
    "\n",
    "    def test_fn(epoch, env_step):\n",
    "               \n",
    "        epsilon = trainer_params['ts_eps_max']#0.01#max(0.001, 0.1 - epoch * 0.001)\n",
    "        if Policy_Config[\"same_policy\"]:\n",
    "            policy.policies[agents[0]].set_eps(epsilon)\n",
    "        else:            \n",
    "            for agent in agents:                             \n",
    "                 policy.policies[agent].set_eps(epsilon)\n",
    "                \n",
    "        \n",
    "        if global_step_holder[0] % 10 == 0:\n",
    "            \n",
    "            if Policy_Config[\"same_policy\"]:\n",
    "                torch.save(policy.policies[agents[0]].state_dict(), model_save_path + \"_\" + str(global_step_holder[0]) + \"_Step.pth\")\n",
    "                print(\"Steps Policy Saved \" , str(global_step_holder[0]))\n",
    "            \n",
    "            else:\n",
    "                for n,agent in enumerate(agents):\n",
    "                    torch.save(policy.policies[agent].state_dict(), model_save_path + \"_\" + str(global_step_holder[0]) + \"_\" + agent + \"Step\" + str(global_step_holder[0]) + \".pth\")\n",
    "                \n",
    "                print(\"Steps Policy Saved \" , str(global_step_holder[0]))\n",
    "        \n",
    "    def reward_metric(rews):       \n",
    "                \n",
    "        global_step_holder[0] +=1 \n",
    "        return rews\n",
    "\n",
    "\n",
    "    # # ======== Step 5: Run the trainer =========\n",
    "    offPolicyTrainer = OffpolicyTrainer(\n",
    "        policy=policy,\n",
    "        train_collector=train_collector,\n",
    "        test_collector=test_collector,        \n",
    "        max_epoch=trainer_params['max_epoch'],\n",
    "        step_per_epoch=trainer_params['step_per_epoch'],\n",
    "        step_per_collect=trainer_params['step_per_collect'],        \n",
    "        episode_per_test= trainer_params['episode_per_test'],\n",
    "        batch_size=trainer_params['batch_size'],\n",
    "        train_fn=train_fn,\n",
    "        test_fn=test_fn,\n",
    "        stop_fn=stop_fn,\n",
    "        save_best_fn=save_best_fn,\n",
    "        # save_test_best_fn=save_test_best_fn,\n",
    "        update_per_step=trainer_params['update_per_step'],\n",
    "        logger=logger,\n",
    "        test_in_train=True,\n",
    "        reward_metric=reward_metric,\n",
    "        show_progress = True \n",
    "               \n",
    "        )\n",
    "    \n",
    "    result = offPolicyTrainer.run()\n",
    "    writer.close()\n",
    "    # return result, policy.policies[agents[1]]\n",
    "    print(f\"\\n==========Result==========\\n{result}\")\n",
    "    print(\"\\n(the trained policy can be accessed via policy.policies[agents[0]])\")"
   ]
  }
 ],
 "metadata": {
  "kernelspec": {
   "display_name": "PettingZoo",
   "language": "python",
   "name": "python3"
  },
  "language_info": {
   "codemirror_mode": {
    "name": "ipython",
    "version": 3
   },
   "file_extension": ".py",
   "mimetype": "text/x-python",
   "name": "python",
   "nbconvert_exporter": "python",
   "pygments_lexer": "ipython3",
   "version": "3.10.9"
  },
  "orig_nbformat": 4
 },
 "nbformat": 4,
 "nbformat_minor": 2
}
