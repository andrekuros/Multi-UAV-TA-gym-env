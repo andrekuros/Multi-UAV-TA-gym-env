{
 "cells": [
  {
   "cell_type": "code",
   "execution_count": null,
   "metadata": {},
   "outputs": [],
   "source": [
    "from gc import collect\n",
    "import os\n",
    "from typing import Optional, Tuple\n",
    "\n",
    "import gym\n",
    "import numpy as np\n",
    "import torch\n",
    "from tianshou.data import Collector, VectorReplayBuffer\n",
    "from tianshou.env import DummyVectorEnv\n",
    "from tianshou.env.pettingzoo_env import PettingZooEnv\n",
    "from tianshou.policy import BasePolicy, DQNPolicy, MultiAgentPolicyManager, RandomPolicy\n",
    "from tianshou.trainer import offpolicy_trainer\n",
    "from torch.utils.tensorboard import SummaryWriter\n",
    "from tianshou.utils import TensorboardLogger\n",
    "\n",
    "\n",
    "from Custom_Classes import CustomNet\n",
    "from Custom_Classes import CustomCollector\n",
    "from Custom_Classes import CustomParallelToAECWrapper\n",
    "\n",
    "#from CustomClass_multi_head import CustomNet\n",
    "from Custom_Classes_simplified import CustomNetSimple\n",
    "from Custom_Classes_simplified import CustomCollectorSimple\n",
    "from Custom_Classes_simplified import CustomParallelToAECWrapperSimple\n",
    "\n",
    "from DroneEnv import MultiDroneEnv\n",
    "from tianshou_DQN import train\n",
    "\n",
    "\n",
    "model = \"CustomNetSimple\" # \"CustomNet\" or \"CustomNetSimple\"\n",
    "test_num = \"1505_03_3\"\n",
    "\n",
    "train_env_num = 10\n",
    "test_env_num = 10\n",
    "\n",
    "name = model + test_num\n",
    "\n",
    "load_policy_name = f'policy_Simple_1505_02.pth'\n",
    "save_policy_name = f'policy_{name}_{test_num}'\n",
    "policy_path = \"dqn_Custom\"\n",
    "load_model = False\n",
    "\n",
    "log_path = os.path.join('./', \"Logs\", \"dqn\", name)\n",
    "\n",
    "dqn_params = {\"discount_factor\": 0.99, \n",
    "              \"estimation_step\": 1, \n",
    "              \"target_update_freq\": 100,\n",
    "              \"optminizer\": \"Adam\",\n",
    "              \"lr\": 1e-4  }\n",
    "\n",
    "trainer_params = {\"max_epoch\": 10000,\n",
    "                  \"step_per_epoch\": 300 * train_env_num,\n",
    "                  \"step_per_collect\": 100 * train_env_num,\n",
    "                  \"episode_per_test\": 10 * test_env_num,\n",
    "                  \"batch_size\" : 32,\n",
    "                  \"update_per_step\": 0.1,\n",
    "                  \"tn_eps_max\": 0.2,\n",
    "                  \"ts_eps_max\": 0.01,\n",
    "                  }\n",
    "\n",
    "Run_Data = f'{name}\\n\\\n",
    "        Loaded_Model: {load_policy_name if load_model == True else \"no\"} \\n\\\n",
    "        log_path: {log_path} \\n\\\n",
    "        train/test_env_num: {train_env_num} / {test_env_num} \\n\\\n",
    "        model: {model} \\n\\\n",
    "        dqn_params: {dqn_params} \\n\\\n",
    "        trainer_params: {trainer_params} \\n'\n",
    "\n",
    "model_load_path = os.path.join(policy_path, load_policy_name)  \n",
    "model_save_path = os.path.join(policy_path, save_policy_name)        \n",
    "os.makedirs(os.path.join(policy_path), exist_ok=True)  \n",
    "os.makedirs(os.path.join(log_path), exist_ok=True)\n",
    "\n",
    "\n",
    "def _get_agents(\n",
    "    agent_learn: Optional[BasePolicy] = None,\n",
    "    agent_opponent: Optional[BasePolicy] = None,\n",
    "    optim: Optional[torch.optim.Optimizer] = None,\n",
    "    policy_load_path = None\n",
    ") -> Tuple[BasePolicy, torch.optim.Optimizer, list]:\n",
    "    \n",
    "    env = _get_env()\n",
    "    agent_name = env.agents[0]  # Get the name of the first agent\n",
    "    agent_observation_space = env.observation_space[agent_name]  # Get the observation_space for that agent\n",
    "       \n",
    "    agent_observation_space = env.observation_space[\"agent0\"]  # assuming 'agent0' is a valid agent name\n",
    "    state_shape_agent_position = agent_observation_space[\"agent_position\"].shape[0]\n",
    "    state_shape_agent_state = agent_observation_space[\"agent_state\"].shape[0]\n",
    "    state_shape_agent_type = agent_observation_space[\"agent_type\"].shape[0]\n",
    "    state_shape_next_free_time = agent_observation_space[\"next_free_time\"].shape[0]\n",
    "    state_shape_position_after_last_task = agent_observation_space[\"position_after_last_task\"].shape[0]       \n",
    "    #state_shape_agent_relay_area = agent_observation_space[\"agent_relay_area\"].shape[0]\n",
    "    \n",
    "    \n",
    "    state_shape_agent = (state_shape_agent_position + state_shape_agent_state +\n",
    "                     state_shape_agent_type+ state_shape_next_free_time + state_shape_position_after_last_task #+                     \n",
    "                     #state_shape_agent_relay_area\n",
    "                     )                 \n",
    "    \n",
    "\n",
    "    state_shape_task = env.observation_space[\"agent0\"][\"tasks_info\"].shape[0]\n",
    "                  \n",
    "    action_shape = env.action_space[agent_name].shape[0]\n",
    "    #action_shape = env.action_space[agent_name].n\n",
    "               \n",
    "    if agent_learn is None:\n",
    "        # model\n",
    "        if model == \"CustomNet\":        \n",
    "            net = CustomNet(\n",
    "                state_shape_agent=state_shape_agent,\n",
    "                state_shape_task=state_shape_task,\n",
    "                action_shape=action_shape,\n",
    "                hidden_sizes=[128,128],\n",
    "                device=\"cuda\" if torch.cuda.is_available() else \"cpu\",\n",
    "            ).to(\"cuda\" if torch.cuda.is_available() else \"cpu\")\n",
    "        \n",
    "        if model == \"CustomNetSimple\":\n",
    "            net = CustomNetSimple(            \n",
    "                state_shape_agent=state_shape_agent,\n",
    "                state_shape_task=state_shape_task,\n",
    "                action_shape=action_shape,\n",
    "                hidden_sizes=[128,128],\n",
    "                device=\"cuda\" if torch.cuda.is_available() else \"cpu\",\n",
    "            ).to(\"cuda\" if torch.cuda.is_available() else \"cpu\")\n",
    "\n",
    "    \n",
    "        if optim is None:\n",
    "            optim = torch.optim.Adam(net.parameters(), lr=dqn_params[\"lr\"])\n",
    "    \n",
    "        agent_learn = DQNPolicy(\n",
    "            model=net,\n",
    "            optim=optim,\n",
    "            discount_factor= dqn_params[\"discount_factor\"],\n",
    "            estimation_step=dqn_params[\"estimation_step\"],\n",
    "            target_update_freq=dqn_params[\"target_update_freq\"],\n",
    "        )  \n",
    "        \n",
    "        if load_model == True:\n",
    "            # Load the saved checkpoint             \n",
    "            agent_learn.load_state_dict(torch.load(model_load_path))\n",
    "            print(f'Loaded-> {model_load_path}')\n",
    "            \n",
    "        \n",
    "        agents = [agent_learn for _ in range(len(env.agents))]\n",
    "        \n",
    "    policy = MultiAgentPolicyManager(agents, env)    \n",
    "        \n",
    "    return policy, optim, env.agents\n",
    "\n",
    "\n",
    "def _get_env():\n",
    "    \"\"\"This function is needed to provide callables for DummyVectorEnv.\"\"\"\n",
    "    env_paralell = MultiDroneEnv()\n",
    "    #env = parallel_to_aec_wrapper(env_paralell)    \n",
    "    env = CustomParallelToAECWrapper(env_paralell)\n",
    "    \n",
    "    return PettingZooEnv(env)\n",
    "\n",
    "print(Run_Data)"
   ]
  },
  {
   "cell_type": "code",
   "execution_count": 27,
   "metadata": {},
   "outputs": [
    {
     "name": "stderr",
     "output_type": "stream",
     "text": [
      "Epoch #315: 3001it [00:05, 576.34it/s, agent0/loss=9.179, env_step=945000, len=10, n/ep=100, n/st=1000, rew=4.02]                           \n"
     ]
    },
    {
     "name": "stdout",
     "output_type": "stream",
     "text": [
      "Epoch #315: test_reward: 2.986403 ± 0.000000, best_reward: 4.202308 ± 0.000000 in #300\n"
     ]
    },
    {
     "name": "stderr",
     "output_type": "stream",
     "text": [
      "Epoch #316: 3001it [00:03, 757.45it/s, agent0/loss=8.804, env_step=948000, len=10, n/ep=100, n/st=1000, rew=4.01]                           \n"
     ]
    },
    {
     "name": "stdout",
     "output_type": "stream",
     "text": [
      "Epoch #316: test_reward: 2.401333 ± 0.000000, best_reward: 4.202308 ± 0.000000 in #300\n"
     ]
    },
    {
     "name": "stderr",
     "output_type": "stream",
     "text": [
      "Epoch #317: 3001it [00:03, 805.42it/s, agent0/loss=8.788, env_step=951000, len=10, n/ep=100, n/st=1000, rew=4.69]                           \n"
     ]
    },
    {
     "name": "stdout",
     "output_type": "stream",
     "text": [
      "Epoch #317: test_reward: 4.848735 ± 0.000000, best_reward: 4.848735 ± 0.000000 in #317\n"
     ]
    },
    {
     "name": "stderr",
     "output_type": "stream",
     "text": [
      "Epoch #318: 3001it [00:03, 753.07it/s, agent0/loss=8.981, env_step=954000, len=10, n/ep=100, n/st=1000, rew=4.54]                           \n"
     ]
    },
    {
     "name": "stdout",
     "output_type": "stream",
     "text": [
      "Epoch #318: test_reward: 3.629503 ± 0.000000, best_reward: 4.848735 ± 0.000000 in #317\n"
     ]
    },
    {
     "name": "stderr",
     "output_type": "stream",
     "text": [
      "Epoch #319: 3001it [00:04, 630.86it/s, agent0/loss=9.133, env_step=957000, len=10, n/ep=100, n/st=1000, rew=4.25]                           \n"
     ]
    },
    {
     "name": "stdout",
     "output_type": "stream",
     "text": [
      "Epoch #319: test_reward: 3.128085 ± 0.000000, best_reward: 4.848735 ± 0.000000 in #317\n"
     ]
    },
    {
     "name": "stderr",
     "output_type": "stream",
     "text": [
      "Epoch #320: 3001it [00:03, 790.36it/s, agent0/loss=8.684, env_step=960000, len=10, n/ep=100, n/st=1000, rew=3.35]                           \n"
     ]
    },
    {
     "name": "stdout",
     "output_type": "stream",
     "text": [
      "Epoch #320: test_reward: 3.001444 ± 0.000000, best_reward: 4.848735 ± 0.000000 in #317\n"
     ]
    },
    {
     "name": "stderr",
     "output_type": "stream",
     "text": [
      "Epoch #321: 3001it [00:04, 690.04it/s, agent0/loss=8.716, env_step=963000, len=10, n/ep=100, n/st=1000, rew=4.68]                           \n"
     ]
    },
    {
     "name": "stdout",
     "output_type": "stream",
     "text": [
      "Epoch #321: test_reward: 4.088928 ± 0.000000, best_reward: 4.848735 ± 0.000000 in #317\n"
     ]
    },
    {
     "name": "stderr",
     "output_type": "stream",
     "text": [
      "Epoch #322: 3001it [00:03, 803.05it/s, agent0/loss=8.395, env_step=966000, len=10, n/ep=100, n/st=1000, rew=3.66]                           \n"
     ]
    },
    {
     "name": "stdout",
     "output_type": "stream",
     "text": [
      "Epoch #322: test_reward: 3.592046 ± 0.000000, best_reward: 4.848735 ± 0.000000 in #317\n"
     ]
    },
    {
     "name": "stderr",
     "output_type": "stream",
     "text": [
      "Epoch #323: 3001it [00:03, 770.47it/s, agent0/loss=8.592, env_step=969000, len=10, n/ep=100, n/st=1000, rew=4.34]                           \n"
     ]
    },
    {
     "name": "stdout",
     "output_type": "stream",
     "text": [
      "Epoch #323: test_reward: 4.143204 ± 0.000000, best_reward: 4.848735 ± 0.000000 in #317\n"
     ]
    },
    {
     "name": "stderr",
     "output_type": "stream",
     "text": [
      "Epoch #324: 3001it [00:03, 820.17it/s, agent0/loss=8.741, env_step=972000, len=10, n/ep=100, n/st=1000, rew=3.16]                           \n"
     ]
    },
    {
     "name": "stdout",
     "output_type": "stream",
     "text": [
      "Epoch #324: test_reward: 3.174953 ± 0.000000, best_reward: 4.848735 ± 0.000000 in #317\n"
     ]
    },
    {
     "name": "stderr",
     "output_type": "stream",
     "text": [
      "Epoch #325: 3001it [00:04, 704.79it/s, agent0/loss=8.651, env_step=975000, len=10, n/ep=100, n/st=1000, rew=3.78]                           \n"
     ]
    },
    {
     "name": "stdout",
     "output_type": "stream",
     "text": [
      "Epoch #325: test_reward: 3.107093 ± 0.000000, best_reward: 4.848735 ± 0.000000 in #317\n"
     ]
    },
    {
     "name": "stderr",
     "output_type": "stream",
     "text": [
      "Epoch #326: 3001it [00:03, 820.17it/s, agent0/loss=8.733, env_step=978000, len=10, n/ep=100, n/st=1000, rew=5.53]                           \n"
     ]
    },
    {
     "name": "stdout",
     "output_type": "stream",
     "text": [
      "Epoch #326: test_reward: 4.329717 ± 0.000000, best_reward: 4.848735 ± 0.000000 in #317\n"
     ]
    },
    {
     "name": "stderr",
     "output_type": "stream",
     "text": [
      "Epoch #327: 3001it [00:03, 835.24it/s, agent0/loss=8.648, env_step=981000, len=10, n/ep=100, n/st=1000, rew=3.44]                           \n"
     ]
    },
    {
     "name": "stdout",
     "output_type": "stream",
     "text": [
      "Epoch #327: test_reward: 3.523904 ± 0.000000, best_reward: 4.848735 ± 0.000000 in #317\n"
     ]
    },
    {
     "name": "stderr",
     "output_type": "stream",
     "text": [
      "Epoch #328: 3001it [00:03, 760.13it/s, agent0/loss=8.661, env_step=984000, len=10, n/ep=100, n/st=1000, rew=2.42]                           \n"
     ]
    },
    {
     "name": "stdout",
     "output_type": "stream",
     "text": [
      "Epoch #328: test_reward: 2.800879 ± 0.000000, best_reward: 4.848735 ± 0.000000 in #317\n"
     ]
    },
    {
     "name": "stderr",
     "output_type": "stream",
     "text": [
      "Epoch #329: 3001it [00:03, 798.35it/s, agent0/loss=8.652, env_step=987000, len=10, n/ep=100, n/st=1000, rew=4.05]                           \n"
     ]
    },
    {
     "name": "stdout",
     "output_type": "stream",
     "text": [
      "Epoch #329: test_reward: -3.583122 ± 0.000000, best_reward: 4.848735 ± 0.000000 in #317\n"
     ]
    },
    {
     "name": "stderr",
     "output_type": "stream",
     "text": [
      "Epoch #330: 3001it [00:03, 769.29it/s, agent0/loss=8.813, env_step=990000, len=10, n/ep=100, n/st=1000, rew=3.03]                           \n"
     ]
    },
    {
     "name": "stdout",
     "output_type": "stream",
     "text": [
      "Epoch #330: test_reward: 2.836843 ± 0.000000, best_reward: 4.848735 ± 0.000000 in #317\n"
     ]
    },
    {
     "name": "stderr",
     "output_type": "stream",
     "text": [
      "Epoch #331: 3001it [00:03, 752.89it/s, agent0/loss=9.258, env_step=993000, len=10, n/ep=100, n/st=1000, rew=0.23]                           \n"
     ]
    },
    {
     "name": "stdout",
     "output_type": "stream",
     "text": [
      "Epoch #331: test_reward: 3.803474 ± 0.000000, best_reward: 4.848735 ± 0.000000 in #317\n"
     ]
    },
    {
     "name": "stderr",
     "output_type": "stream",
     "text": [
      "Epoch #332: 3001it [00:03, 795.39it/s, agent0/loss=8.936, env_step=996000, len=10, n/ep=100, n/st=1000, rew=3.31]                           \n"
     ]
    },
    {
     "name": "stdout",
     "output_type": "stream",
     "text": [
      "Epoch #332: test_reward: 3.218160 ± 0.000000, best_reward: 4.848735 ± 0.000000 in #317\n"
     ]
    },
    {
     "name": "stderr",
     "output_type": "stream",
     "text": [
      "Epoch #333: 3001it [00:04, 739.71it/s, agent0/loss=9.120, env_step=999000, len=10, n/ep=100, n/st=1000, rew=4.49]                           \n"
     ]
    },
    {
     "name": "stdout",
     "output_type": "stream",
     "text": [
      "Epoch #333: test_reward: 4.412267 ± 0.000000, best_reward: 4.848735 ± 0.000000 in #317\n"
     ]
    },
    {
     "name": "stderr",
     "output_type": "stream",
     "text": [
      "Epoch #334: 3001it [00:03, 762.26it/s, agent0/loss=8.800, env_step=1002000, len=10, n/ep=100, n/st=1000, rew=4.15]                           \n"
     ]
    },
    {
     "name": "stdout",
     "output_type": "stream",
     "text": [
      "Epoch #334: test_reward: 4.386932 ± 0.000000, best_reward: 4.848735 ± 0.000000 in #317\n"
     ]
    },
    {
     "name": "stderr",
     "output_type": "stream",
     "text": [
      "Epoch #335: 3001it [00:04, 698.39it/s, agent0/loss=8.852, env_step=1005000, len=10, n/ep=100, n/st=1000, rew=3.03]                           \n"
     ]
    },
    {
     "name": "stdout",
     "output_type": "stream",
     "text": [
      "Epoch #335: test_reward: 4.197777 ± 0.000000, best_reward: 4.848735 ± 0.000000 in #317\n"
     ]
    },
    {
     "name": "stderr",
     "output_type": "stream",
     "text": [
      "Epoch #336: 3001it [00:04, 726.46it/s, agent0/loss=8.701, env_step=1008000, len=10, n/ep=100, n/st=1000, rew=4.22]                           \n"
     ]
    },
    {
     "name": "stdout",
     "output_type": "stream",
     "text": [
      "Epoch #336: test_reward: 3.023814 ± 0.000000, best_reward: 4.848735 ± 0.000000 in #317\n"
     ]
    },
    {
     "name": "stderr",
     "output_type": "stream",
     "text": [
      "Epoch #337: 3001it [00:03, 758.79it/s, agent0/loss=8.902, env_step=1011000, len=10, n/ep=100, n/st=1000, rew=4.79]                           \n"
     ]
    },
    {
     "name": "stdout",
     "output_type": "stream",
     "text": [
      "Epoch #337: test_reward: 3.910824 ± 0.000000, best_reward: 4.848735 ± 0.000000 in #317\n"
     ]
    },
    {
     "name": "stderr",
     "output_type": "stream",
     "text": [
      "Epoch #338: 3001it [00:03, 830.84it/s, agent0/loss=8.394, env_step=1014000, len=10, n/ep=100, n/st=1000, rew=4.91]                           \n"
     ]
    },
    {
     "name": "stdout",
     "output_type": "stream",
     "text": [
      "Epoch #338: test_reward: 0.943138 ± 0.000000, best_reward: 4.848735 ± 0.000000 in #317\n"
     ]
    },
    {
     "name": "stderr",
     "output_type": "stream",
     "text": [
      "Epoch #339: 3001it [00:03, 750.44it/s, agent0/loss=8.749, env_step=1017000, len=10, n/ep=100, n/st=1000, rew=1.70]                           \n"
     ]
    },
    {
     "name": "stdout",
     "output_type": "stream",
     "text": [
      "Epoch #339: test_reward: 4.180132 ± 0.000000, best_reward: 4.848735 ± 0.000000 in #317\n"
     ]
    },
    {
     "name": "stderr",
     "output_type": "stream",
     "text": [
      "Epoch #340: 3001it [00:03, 760.32it/s, agent0/loss=8.876, env_step=1020000, len=10, n/ep=100, n/st=1000, rew=6.87]                           \n"
     ]
    },
    {
     "name": "stdout",
     "output_type": "stream",
     "text": [
      "Epoch #340: test_reward: 4.574014 ± 0.000000, best_reward: 4.848735 ± 0.000000 in #317\n"
     ]
    },
    {
     "name": "stderr",
     "output_type": "stream",
     "text": [
      "Epoch #341: 3001it [00:04, 675.44it/s, agent0/loss=8.802, env_step=1023000, len=10, n/ep=100, n/st=1000, rew=3.69]                           \n"
     ]
    },
    {
     "name": "stdout",
     "output_type": "stream",
     "text": [
      "Epoch #341: test_reward: 4.020876 ± 0.000000, best_reward: 4.848735 ± 0.000000 in #317\n"
     ]
    },
    {
     "name": "stderr",
     "output_type": "stream",
     "text": [
      "Epoch #342: 3001it [00:04, 695.64it/s, agent0/loss=8.907, env_step=1026000, len=10, n/ep=100, n/st=1000, rew=2.16]                           \n"
     ]
    },
    {
     "name": "stdout",
     "output_type": "stream",
     "text": [
      "Epoch #342: test_reward: 4.133421 ± 0.000000, best_reward: 4.848735 ± 0.000000 in #317\n"
     ]
    },
    {
     "name": "stderr",
     "output_type": "stream",
     "text": [
      "Epoch #343: 3001it [00:04, 729.99it/s, agent0/loss=8.743, env_step=1029000, len=10, n/ep=100, n/st=1000, rew=2.45]                           \n"
     ]
    },
    {
     "name": "stdout",
     "output_type": "stream",
     "text": [
      "Epoch #343: test_reward: 3.986018 ± 0.000000, best_reward: 4.848735 ± 0.000000 in #317\n"
     ]
    },
    {
     "name": "stderr",
     "output_type": "stream",
     "text": [
      "Epoch #344: 3001it [00:03, 768.90it/s, agent0/loss=8.780, env_step=1032000, len=10, n/ep=100, n/st=1000, rew=3.17]                           \n"
     ]
    },
    {
     "name": "stdout",
     "output_type": "stream",
     "text": [
      "Epoch #344: test_reward: 2.975484 ± 0.000000, best_reward: 4.848735 ± 0.000000 in #317\n"
     ]
    },
    {
     "name": "stderr",
     "output_type": "stream",
     "text": [
      "Epoch #345: 3001it [00:03, 778.47it/s, agent0/loss=8.652, env_step=1035000, len=10, n/ep=100, n/st=1000, rew=3.40]                           \n"
     ]
    },
    {
     "name": "stdout",
     "output_type": "stream",
     "text": [
      "Epoch #345: test_reward: 3.065603 ± 0.000000, best_reward: 4.848735 ± 0.000000 in #317\n"
     ]
    },
    {
     "name": "stderr",
     "output_type": "stream",
     "text": [
      "Epoch #346: 3001it [00:03, 777.66it/s, agent0/loss=8.965, env_step=1038000, len=10, n/ep=100, n/st=1000, rew=3.78]                           \n"
     ]
    },
    {
     "name": "stdout",
     "output_type": "stream",
     "text": [
      "Epoch #346: test_reward: 3.706402 ± 0.000000, best_reward: 4.848735 ± 0.000000 in #317\n"
     ]
    },
    {
     "name": "stderr",
     "output_type": "stream",
     "text": [
      "Epoch #347: 3001it [00:03, 753.64it/s, agent0/loss=8.886, env_step=1041000, len=10, n/ep=100, n/st=1000, rew=3.73]                           \n"
     ]
    },
    {
     "name": "stdout",
     "output_type": "stream",
     "text": [
      "Epoch #347: test_reward: 1.805432 ± 0.000000, best_reward: 4.848735 ± 0.000000 in #317\n"
     ]
    },
    {
     "name": "stderr",
     "output_type": "stream",
     "text": [
      "Epoch #348:  33%|###3      | 1000/3000 [00:00<00:01, 1414.43it/s]"
     ]
    }
   ],
   "source": [
    "if __name__ == \"__main__\":\n",
    "                        \n",
    "    torch.set_grad_enabled(True) \n",
    "    # ======== Step 1: Environment setup =========\n",
    "    train_envs = DummyVectorEnv([_get_env for _ in range(train_env_num)])\n",
    "    test_envs = DummyVectorEnv([_get_env for _ in range(test_env_num)]) \n",
    "\n",
    "    # seed\n",
    "    seed = 1\n",
    "    np.random.seed(seed)\n",
    "    \n",
    "    torch.manual_seed(seed)\n",
    "    train_envs.seed(seed)\n",
    "    test_envs.seed(seed)\n",
    "\n",
    "    # ======== Step 2: Agent setup =========\n",
    "    policy, optim, agents = _get_agents()\n",
    "    \n",
    "\n",
    "    # ======== Step 3: Collector setup =========\n",
    "    train_collector = CustomCollector(\n",
    "        policy,\n",
    "        train_envs,\n",
    "        VectorReplayBuffer(100_000, len(train_envs)),\n",
    "        exploration_noise=True,\n",
    "    )\n",
    "    test_collector = CustomCollector(policy, test_envs, exploration_noise=True)\n",
    "     \n",
    "    train_collector.collect(n_step=trainer_params['batch_size'] * train_env_num)\n",
    "    #test_collector.collect(n_step=trainer_params['batch size'] * train_env_num)\n",
    "    \n",
    "    # ======== tensorboard logging setup =========\n",
    "    #         \n",
    "    writer = SummaryWriter(log_path)\n",
    "    writer.add_text(name, str(Run_Data))\n",
    "    logger = TensorboardLogger(writer)\n",
    "        \n",
    "    # ======== Step 4: Callback functions setup =========\n",
    "    def save_best_fn(policy):                \n",
    "        torch.save(policy.policies[agents[0]].state_dict(), model_save_path)\n",
    "\n",
    "    def stop_fn(mean_rewards):\n",
    "        return mean_rewards >= 9939.0\n",
    "\n",
    "    def train_fn(epoch, env_step):\n",
    "        epsilon = max(trainer_params['tn_eps_max']/10, trainer_params['tn_eps_max'] - epoch * trainer_params['tn_eps_max']/1000)\n",
    "        policy.policies[agents[0]].set_eps(epsilon)\n",
    "\n",
    "    def test_fn(epoch, env_step):\n",
    "        epsilon = trainer_params['ts_eps_max']#0.01#max(0.001, 0.1 - epoch * 0.001)\n",
    "        policy.policies[agents[0]].set_eps(epsilon)\n",
    "        \n",
    "    def reward_metric(rews):       \n",
    "        #print(rews)\n",
    "        return rews.mean()#[:,0]\n",
    "                           \n",
    "    # ======== Step 5: Run the trainer =========\n",
    "    result = offpolicy_trainer(\n",
    "        policy=policy,\n",
    "        train_collector=train_collector,\n",
    "        test_collector=test_collector,        \n",
    "        max_epoch=trainer_params['max_epoch'],\n",
    "        step_per_epoch=trainer_params['step_per_epoch'],\n",
    "        step_per_collect=trainer_params['step_per_collect'],\n",
    "        episode_per_test= trainer_params['episode_per_test'],\n",
    "        batch_size=trainer_params['batch_size'],\n",
    "        train_fn=train_fn,\n",
    "        test_fn=test_fn,\n",
    "        stop_fn=stop_fn,\n",
    "        save_best_fn=save_best_fn,\n",
    "        update_per_step=trainer_params['update_per_step'],\n",
    "        logger=logger,\n",
    "        test_in_train=False,\n",
    "        reward_metric=reward_metric,\n",
    "        show_progress = True\n",
    "        )\n",
    "\n",
    "    # return result, policy.policies[agents[1]]\n",
    "    print(f\"\\n==========Result==========\\n{result}\")\n",
    "    print(\"\\n(the trained policy can be accessed via policy.policies[agents[0]])\")"
   ]
  },
  {
   "cell_type": "code",
   "execution_count": null,
   "metadata": {},
   "outputs": [],
   "source": [
    "\n",
    "from typing import Optional, Tuple\n",
    "\n",
    "import numpy as np\n",
    "import torch\n",
    "from tianshou.env import DummyVectorEnv\n",
    "from tianshou.trainer import offpolicy_trainer\n",
    "from torch.utils.tensorboard import SummaryWriter\n",
    "from tianshou.utils import TensorboardLogger\n",
    "import torch\n",
    "#from Custom_Classes import CustomCollector\n",
    "\n",
    "# Create a new instance of the policy with the same architecture as the saved policy\n",
    "policy, optim, _ = _get_agents()\n",
    "model_save_path = os.path.join(\"dqn_Custom\", save_policy_name)        \n",
    "\n",
    "# Load the saved checkpoint\n",
    "policy_test = policy.policies['agent0']\n",
    "policy_test.load_state_dict(torch.load(model_save_path ))\n",
    "\n",
    "envs = DummyVectorEnv([_get_env for _ in range(1)])\n",
    "\n",
    "#policy_test.policies['agent0'].eval()\n",
    "#policy.policies['agent0'].set_eps(0.9)\n",
    "\n",
    "policy_test.eval()\n",
    "policy_test.set_eps(0.00)\n",
    "\n",
    "#collector = CustomCollector(policy.policies['agent0'], envs, exploration_noise=True)\n",
    "collector = CustomCollector(policy_test, envs, exploration_noise=True)\n",
    "\n",
    "results = collector.collect(n_episode=100)\n",
    "#collector.collect(n_episode=2, render=1 / 5000)\n",
    "\n",
    "\n"
   ]
  },
  {
   "cell_type": "code",
   "execution_count": null,
   "metadata": {},
   "outputs": [],
   "source": [
    "max(results['rews'])\n",
    "print(np.mean(results['rews'][results['rews'] > -10]))\n",
    "\n",
    "\n",
    "#create a function  to print a histogram of the results['rews']\n",
    "import matplotlib.pyplot as plt\n",
    "plt.hist(results['rews'][results['rews'] > -10], bins=100)\n",
    "plt.show()\n"
   ]
  }
 ],
 "metadata": {
  "kernelspec": {
   "display_name": "PettingZoo",
   "language": "python",
   "name": "python3"
  },
  "language_info": {
   "codemirror_mode": {
    "name": "ipython",
    "version": 3
   },
   "file_extension": ".py",
   "mimetype": "text/x-python",
   "name": "python",
   "nbconvert_exporter": "python",
   "pygments_lexer": "ipython3",
   "version": "3.10.11"
  },
  "orig_nbformat": 4
 },
 "nbformat": 4,
 "nbformat_minor": 2
}
