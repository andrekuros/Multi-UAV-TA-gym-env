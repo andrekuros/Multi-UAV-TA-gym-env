{
 "cells": [
  {
   "cell_type": "code",
   "execution_count": 1,
   "metadata": {},
   "outputs": [
    {
     "name": "stdout",
     "output_type": "stream",
     "text": [
      "CustomNetMultiHead_Eval_TBTA_02_simplified_UCF_mask01_seed0All\n",
      "        Loaded_Model: no \n",
      "        log_path: ./Logs\\dqn\\CustomNetMultiHead_Eval_TBTA_02_simplified_UCF_mask01_seed0All230915-112008 \n",
      "        train/test_env_num: 10 / 10 \n",
      "        model: CustomNetMultiHead \n",
      "        dqn_params: {'discount_factor': 0.98, 'estimation_step': 5, 'target_update_freq': 100, 'optminizer': 'Adam', 'lr': 0.0001} \n",
      "        trainer_params: {'max_epoch': 1000, 'step_per_epoch': 2500, 'step_per_collect': 20, 'episode_per_test': 1, 'batch_size': 32, 'update_per_step': 0.04, 'tn_eps_max': 0.85, 'ts_eps_max': 0.0} \n",
      "        obs: Task Info -> Dist / Quality for own drone             Agents_info -> Post_next / Time_next / Type             Scene:  agents= F1:2, F2:2, R1:3, R2:3,                      tasks= Att: 8 , Rec:22\n"
     ]
    }
   ],
   "source": [
    "import os\n",
    "import datetime\n",
    "from typing import Optional, Tuple\n",
    "\n",
    "import gym\n",
    "import numpy as np\n",
    "import torch\n",
    "from tianshou.data import Collector, VectorReplayBuffer, PrioritizedVectorReplayBuffer\n",
    "from tianshou.env import DummyVectorEnv\n",
    "from tianshou.env.pettingzoo_env import PettingZooEnv\n",
    "from tianshou.policy import BasePolicy, DQNPolicy, MultiAgentPolicyManager, RandomPolicy\n",
    "from tianshou.trainer import offpolicy_trainer\n",
    "from torch.utils.tensorboard import SummaryWriter\n",
    "from tianshou.utils import TensorboardLogger\n",
    "\n",
    "from TaskAllocation.RL_Policies.Custom_Classes import CustomNet\n",
    "from TaskAllocation.RL_Policies.Custom_Classes import CustomCollector\n",
    "from TaskAllocation.RL_Policies.Custom_Classes import CustomParallelToAECWrapper\n",
    "\n",
    "#from CustomClass_multi_head import CustomNet\n",
    "from TaskAllocation.RL_Policies.Custom_Classes_simplified import CustomNetSimple\n",
    "#from Custom_Classes_simplified import CustomCollectorSimple\n",
    "#from Custom_Classes_simplified import CustomParallelToAECWrapperSimple\n",
    "\n",
    "from TaskAllocation.RL_Policies.CustomClasses_Transformer_Reduced import CustomNetReduced\n",
    "from TaskAllocation.RL_Policies.CustomClass_MultiHead_Transformer import CustomNetMultiHead\n",
    "import importlib\n",
    "\n",
    "from mUAV_TA.DroneEnv import MultiDroneEnv\n",
    "#from tianshou_DQN import train\n",
    "model = \"CustomNetMultiHead\" # \"CustomNet\" or \"CustomNetSimple\" or \"CustomNetReduced\" or \"CustomNetMultiHead\"\n",
    "test_num = \"_Eval_TBTA_02_simplified_UCF_mask01_seed0All\"\n",
    "\n",
    "train_env_num = 10\n",
    "test_env_num = 10\n",
    "\n",
    "name = model + test_num\n",
    "\n",
    "load_policy_name = f'policy_CustomNetMultiHead_Eval_TBTA_02_simplified_UCF1_new_rew_updR.pth'\n",
    "save_policy_name = f'policy_{name}.pth'\n",
    "policy_path = \"dqn_Custom\"\n",
    "load_model = False\n",
    "\n",
    "# log\n",
    "now = datetime.datetime.now().strftime(\"%y%m%d-%H%M%S\")\n",
    "log_name = name + str(now)\n",
    "\n",
    "log_path = os.path.join('./', \"Logs\", \"dqn\", log_name)\n",
    "\n",
    "dqn_params = {\"discount_factor\": 0.98, \n",
    "              \"estimation_step\": 5, \n",
    "              \"target_update_freq\": 100,\n",
    "              \"optminizer\": \"Adam\",\n",
    "              \"lr\": 1e-4  }\n",
    "\n",
    "trainer_params = {\"max_epoch\": 1000,\n",
    "                  \"step_per_epoch\": 250 * train_env_num,\n",
    "                  \"step_per_collect\": 20,\n",
    "                  \"episode_per_test\": 1,\n",
    "                  \"batch_size\" : 32,\n",
    "                  \"update_per_step\": 1/25,\n",
    "                  \"tn_eps_max\": 0.85,\n",
    "                  \"ts_eps_max\": 0.0,\n",
    "                  }\n",
    "\n",
    "Run_Data = f'{name}\\n\\\n",
    "        Loaded_Model: {load_policy_name if load_model == True else \"no\"} \\n\\\n",
    "        log_path: {log_path} \\n\\\n",
    "        train/test_env_num: {train_env_num} / {test_env_num} \\n\\\n",
    "        model: {model} \\n\\\n",
    "        dqn_params: {dqn_params} \\n\\\n",
    "        trainer_params: {trainer_params} \\n\\\n",
    "        obs: Task Info -> Dist / Quality for own drone \\\n",
    "            Agents_info -> Post_next / Time_next / Type \\\n",
    "            Scene:  agents= F1:2, F2:2, R1:3, R2:3,     \\\n",
    "                 tasks= Att: 8 , Rec:22'\n",
    "\n",
    "model_load_path = os.path.join(policy_path, load_policy_name)  \n",
    "model_save_path = os.path.join(policy_path, save_policy_name)        \n",
    "os.makedirs(os.path.join(policy_path), exist_ok=True)  \n",
    "os.makedirs(os.path.join(log_path), exist_ok=True)\n",
    "\n",
    "\n",
    "def _get_agents(\n",
    "    agent_learn: Optional[BasePolicy] = None,\n",
    "    agent_opponent: Optional[BasePolicy] = None,\n",
    "    optim: Optional[torch.optim.Optimizer] = None,\n",
    "    policy_load_path = None,\n",
    ") -> Tuple[BasePolicy, torch.optim.Optimizer, list]:\n",
    "    \n",
    "    env = _get_env()\n",
    "    agent_name = env.agents[0]  # Get the name of the first agent\n",
    "\n",
    "    #print(env.observation_space )\n",
    "    agent_observation_space = env.observation_space # assuming 'agent0' is a valid agent name\n",
    "    state_shape_agent_position = agent_observation_space[\"agent_position\"].shape[0]\n",
    "    state_shape_agent_state = agent_observation_space[\"agent_state\"].shape[0]\n",
    "    state_shape_agent_type = agent_observation_space[\"agent_type\"].shape[0]\n",
    "    state_shape_next_free_time = agent_observation_space[\"next_free_time\"].shape[0]\n",
    "    state_shape_position_after_last_task = agent_observation_space[\"position_after_last_task\"].shape[0]       \n",
    "    #state_shape_agent_relay_area = agent_observation_space[\"agent_relay_area\"].shape[0]\n",
    "        \n",
    "    state_shape_agent = (state_shape_agent_position + state_shape_agent_state +\n",
    "                     state_shape_agent_type+ state_shape_next_free_time + state_shape_position_after_last_task #+                     \n",
    "                     #state_shape_agent_relay_area\n",
    "                     )                 \n",
    "    \n",
    "\n",
    "    state_shape_task = 30 * 3 #env.observation_space[\"tasks_info\"].shape[0]\n",
    "                  \n",
    "    action_shape = env.action_space[agent_name].shape[0]\n",
    "    #action_shape = env.action_space[agent_name].n\n",
    "               \n",
    "    if agent_learn is None:\n",
    "        # model\n",
    "        if model == \"CustomNet\":        \n",
    "            net = CustomNet(\n",
    "                state_shape_agent=state_shape_agent,\n",
    "                state_shape_task=state_shape_task,\n",
    "                action_shape=action_shape,\n",
    "                hidden_sizes=[128,128],\n",
    "                device=\"cuda\" if torch.cuda.is_available() else \"cpu\",\n",
    "            ).to(\"cuda\" if torch.cuda.is_available() else \"cpu\")\n",
    "        \n",
    "        if model == \"CustomNetSimple\":\n",
    "            net = CustomNetSimple(            \n",
    "                state_shape_agent=state_shape_agent,\n",
    "                state_shape_task=state_shape_task,\n",
    "                action_shape=action_shape,\n",
    "                hidden_sizes=[128,128],\n",
    "                device=\"cuda\" if torch.cuda.is_available() else \"cpu\",\n",
    "            ).to(\"cuda\" if torch.cuda.is_available() else \"cpu\")\n",
    "        \n",
    "        if model == \"CustomNetReduced\":\n",
    "            net = CustomNetReduced(            \n",
    "                state_shape_agent=state_shape_agent,\n",
    "                state_shape_task=state_shape_task,\n",
    "                action_shape=action_shape,\n",
    "                hidden_sizes=[128,128],\n",
    "                device=\"cuda\" if torch.cuda.is_available() else \"cpu\",\n",
    "            ).to(\"cuda\" if torch.cuda.is_available() else \"cpu\")\n",
    "        \n",
    "        if model == \"CustomNetMultiHead\":\n",
    "            net = CustomNetMultiHead(\n",
    "                state_shape_agent=state_shape_agent,\n",
    "                state_shape_task=state_shape_task,\n",
    "                action_shape=action_shape,\n",
    "                hidden_sizes=[128,128],\n",
    "                device=\"cuda\" if torch.cuda.is_available() else \"cpu\",\n",
    "            ).to(\"cuda\" if torch.cuda.is_available() else \"cpu\")\n",
    "\n",
    "    \n",
    "        if optim is None:\n",
    "            optim = torch.optim.Adam(net.parameters(), lr=dqn_params[\"lr\"])\n",
    "    \n",
    "        agent_learn = DQNPolicy(\n",
    "            model=net,\n",
    "            optim=optim,\n",
    "            discount_factor= dqn_params[\"discount_factor\"],\n",
    "            estimation_step=dqn_params[\"estimation_step\"],\n",
    "            target_update_freq=dqn_params[\"target_update_freq\"],\n",
    "        )  \n",
    "        \n",
    "        if load_model == True:\n",
    "            # Load the saved checkpoint             \n",
    "            agent_learn.load_state_dict(torch.load(model_load_path))\n",
    "            print(f'Loaded-> {model_load_path}')\n",
    "            \n",
    "        \n",
    "        agents = [agent_learn for _ in range(len(env.agents))]\n",
    "        \n",
    "    policy = MultiAgentPolicyManager(agents, env)    \n",
    "        \n",
    "    return policy, optim, env.agents\n",
    "\n",
    "\n",
    "def _get_env():\n",
    "    \"\"\"This function is needed to provide callables for DummyVectorEnv.\"\"\"   \n",
    "    env_paralell = MultiDroneEnv()\n",
    "    #env = parallel_to_aec_wrapper(env_paralell)    \n",
    "    env = CustomParallelToAECWrapper(env_paralell)\n",
    "    \n",
    "    return PettingZooEnv(env)\n",
    "\n",
    "print(Run_Data)"
   ]
  },
  {
   "cell_type": "code",
   "execution_count": 2,
   "metadata": {},
   "outputs": [
    {
     "name": "stderr",
     "output_type": "stream",
     "text": [
      "d:\\Python310\\lib\\site-packages\\torch\\nn\\init.py:405: UserWarning: Initializing zero-element tensors is a no-op\n",
      "  warnings.warn(\"Initializing zero-element tensors is a no-op\")\n"
     ]
    },
    {
     "name": "stdout",
     "output_type": "stream",
     "text": [
      "Best Saved\n"
     ]
    },
    {
     "name": "stderr",
     "output_type": "stream",
     "text": [
      "Epoch #1: 2501it [00:25, 97.85it/s, agent0/loss=417.506, agent1/loss=373.098, agent2/loss=471.721, agent3/loss=331.841, agent4/loss=258.785, agent5/loss=285.056, agent6/loss=271.582, agent7/loss=228.886, agent8/loss=216.837, agent9/loss=291.650, env_step=2500, len=50, n/ep=10, n/st=20, rew=124.65]                           \n"
     ]
    },
    {
     "name": "stdout",
     "output_type": "stream",
     "text": [
      "Best Saved\n",
      "Epoch #1: test_reward: 185.000000 ± 0.000000, best_reward: 185.000000 ± 0.000000 in #1\n"
     ]
    },
    {
     "name": "stderr",
     "output_type": "stream",
     "text": [
      "Epoch #2: 2501it [00:26, 94.17it/s, agent0/loss=375.417, agent1/loss=303.714, agent2/loss=387.532, agent3/loss=322.924, agent4/loss=233.661, agent5/loss=251.161, agent6/loss=211.441, agent7/loss=156.173, agent8/loss=183.473, agent9/loss=187.043, env_step=5000, len=50, n/ep=10, n/st=20, rew=130.45]                           \n"
     ]
    },
    {
     "name": "stdout",
     "output_type": "stream",
     "text": [
      "Epoch #2: test_reward: 171.000000 ± 0.000000, best_reward: 185.000000 ± 0.000000 in #1\n"
     ]
    },
    {
     "name": "stderr",
     "output_type": "stream",
     "text": [
      "Epoch #3: 2501it [00:25, 96.82it/s, agent0/loss=355.877, agent1/loss=310.226, agent3/loss=292.760, agent5/loss=228.061, agent6/loss=243.793, agent7/loss=147.065, agent8/loss=190.982, agent9/loss=155.933, env_step=7500, len=50, n/ep=10, n/st=20, rew=129.45]                                                                     \n"
     ]
    },
    {
     "name": "stdout",
     "output_type": "stream",
     "text": [
      "Epoch #3: test_reward: 178.000000 ± 0.000000, best_reward: 185.000000 ± 0.000000 in #1\n"
     ]
    },
    {
     "name": "stderr",
     "output_type": "stream",
     "text": [
      "Epoch #4: 2501it [00:25, 97.19it/s, agent0/loss=306.719, agent1/loss=288.721, agent2/loss=354.972, agent3/loss=295.086, agent4/loss=263.616, agent5/loss=205.578, agent6/loss=208.707, agent7/loss=162.531, agent8/loss=164.855, agent9/loss=162.124, env_step=10000, len=50, n/ep=10, n/st=20, rew=129.65]                          \n"
     ]
    },
    {
     "name": "stdout",
     "output_type": "stream",
     "text": [
      "Epoch #4: test_reward: 185.000000 ± 0.000000, best_reward: 185.000000 ± 0.000000 in #1\n"
     ]
    },
    {
     "name": "stderr",
     "output_type": "stream",
     "text": [
      "Epoch #5: 2501it [00:26, 96.18it/s, agent0/loss=292.150, agent1/loss=321.369, agent2/loss=365.657, agent3/loss=312.415, agent4/loss=242.300, agent5/loss=206.563, agent6/loss=192.250, agent7/loss=183.088, agent8/loss=158.472, agent9/loss=151.118, env_step=12500, len=50, n/ep=10, n/st=20, rew=131.40]                           \n"
     ]
    },
    {
     "name": "stdout",
     "output_type": "stream",
     "text": [
      "Epoch #5: test_reward: 185.000000 ± 0.000000, best_reward: 185.000000 ± 0.000000 in #1\n"
     ]
    },
    {
     "name": "stderr",
     "output_type": "stream",
     "text": [
      "Epoch #6: 2501it [00:25, 96.95it/s, agent0/loss=290.651, agent1/loss=351.040, agent2/loss=315.815, agent3/loss=294.568, agent4/loss=213.765, agent5/loss=220.859, agent6/loss=188.190, agent7/loss=160.909, agent8/loss=179.511, agent9/loss=195.776, env_step=15000, len=50, n/ep=10, n/st=20, rew=119.45]                           \n"
     ]
    },
    {
     "name": "stdout",
     "output_type": "stream",
     "text": [
      "Epoch #6: test_reward: 185.000000 ± 0.000000, best_reward: 185.000000 ± 0.000000 in #1\n"
     ]
    },
    {
     "name": "stderr",
     "output_type": "stream",
     "text": [
      "Epoch #7: 2501it [00:25, 97.34it/s, agent0/loss=324.812, agent1/loss=268.491, agent2/loss=278.987, agent4/loss=227.590, agent5/loss=215.703, agent6/loss=222.071, agent7/loss=194.296, agent8/loss=143.941, agent9/loss=203.409, env_step=17500, len=50, n/ep=10, n/st=20, rew=120.85]                                                \n"
     ]
    },
    {
     "name": "stdout",
     "output_type": "stream",
     "text": [
      "Epoch #7: test_reward: 185.000000 ± 0.000000, best_reward: 185.000000 ± 0.000000 in #1\n"
     ]
    },
    {
     "name": "stderr",
     "output_type": "stream",
     "text": [
      "Epoch #8: 2501it [00:25, 97.63it/s, agent0/loss=335.559, agent1/loss=269.076, agent2/loss=255.567, agent3/loss=287.629, agent4/loss=221.696, agent5/loss=242.184, agent6/loss=187.150, agent7/loss=162.961, agent8/loss=153.234, agent9/loss=188.034, env_step=20000, len=50, n/ep=10, n/st=20, rew=129.55]                           \n"
     ]
    },
    {
     "name": "stdout",
     "output_type": "stream",
     "text": [
      "Epoch #8: test_reward: 178.000000 ± 0.000000, best_reward: 185.000000 ± 0.000000 in #1\n"
     ]
    },
    {
     "name": "stderr",
     "output_type": "stream",
     "text": [
      "Epoch #9: 2501it [00:25, 98.24it/s, agent0/loss=265.818, agent1/loss=336.490, agent2/loss=298.191, agent3/loss=258.956, agent4/loss=250.403, agent5/loss=209.058, agent6/loss=192.833, agent7/loss=175.554, agent8/loss=138.391, agent9/loss=194.672, env_step=22500, len=50, n/ep=10, n/st=20, rew=119.75]                           \n"
     ]
    },
    {
     "name": "stdout",
     "output_type": "stream",
     "text": [
      "Epoch #9: test_reward: 185.000000 ± 0.000000, best_reward: 185.000000 ± 0.000000 in #1\n"
     ]
    },
    {
     "name": "stderr",
     "output_type": "stream",
     "text": [
      "Epoch #10: 2501it [00:25, 96.52it/s, agent0/loss=334.730, agent1/loss=304.283, agent2/loss=336.221, agent3/loss=333.799, agent4/loss=238.331, agent5/loss=203.181, agent6/loss=190.910, agent7/loss=174.257, agent8/loss=186.789, agent9/loss=167.554, env_step=25000, len=50, n/ep=10, n/st=20, rew=131.45]                           \n"
     ]
    },
    {
     "name": "stdout",
     "output_type": "stream",
     "text": [
      "Epoch #10: test_reward: 185.000000 ± 0.000000, best_reward: 185.000000 ± 0.000000 in #1\n"
     ]
    },
    {
     "name": "stderr",
     "output_type": "stream",
     "text": [
      "Epoch #11: 2501it [00:25, 97.46it/s, agent0/loss=306.260, agent1/loss=294.430, agent2/loss=327.952, agent3/loss=278.398, agent4/loss=262.150, agent5/loss=188.899, agent6/loss=216.669, agent7/loss=179.533, agent8/loss=197.427, agent9/loss=193.360, env_step=27500, len=50, n/ep=10, n/st=20, rew=129.90]                          \n"
     ]
    },
    {
     "name": "stdout",
     "output_type": "stream",
     "text": [
      "Epoch #11: test_reward: 185.000000 ± 0.000000, best_reward: 185.000000 ± 0.000000 in #1\n"
     ]
    },
    {
     "name": "stderr",
     "output_type": "stream",
     "text": [
      "Epoch #12: 2501it [00:26, 95.01it/s, agent0/loss=292.344, agent1/loss=299.057, agent2/loss=319.800, agent3/loss=296.016, agent5/loss=213.239, agent6/loss=216.816, agent7/loss=148.879, agent8/loss=188.242, agent9/loss=182.572, env_step=30000, len=50, n/ep=10, n/st=20, rew=123.80]                                               \n"
     ]
    },
    {
     "name": "stdout",
     "output_type": "stream",
     "text": [
      "Epoch #12: test_reward: 185.000000 ± 0.000000, best_reward: 185.000000 ± 0.000000 in #1\n"
     ]
    },
    {
     "name": "stderr",
     "output_type": "stream",
     "text": [
      "Epoch #13: 2501it [00:26, 96.16it/s, agent0/loss=279.837, agent1/loss=258.550, agent2/loss=321.798, agent3/loss=265.726, agent4/loss=219.625, agent5/loss=241.862, agent6/loss=189.645, agent7/loss=168.761, agent8/loss=180.560, agent9/loss=203.979, env_step=32500, len=50, n/ep=10, n/st=20, rew=129.25]                           \n"
     ]
    },
    {
     "name": "stdout",
     "output_type": "stream",
     "text": [
      "Epoch #13: test_reward: 178.000000 ± 0.000000, best_reward: 185.000000 ± 0.000000 in #1\n"
     ]
    },
    {
     "name": "stderr",
     "output_type": "stream",
     "text": [
      "Epoch #14: 2501it [00:25, 96.74it/s, agent0/loss=302.774, agent1/loss=298.980, agent2/loss=321.387, agent3/loss=306.369, agent4/loss=253.795, agent5/loss=250.208, agent6/loss=206.361, agent7/loss=161.192, agent8/loss=192.379, agent9/loss=175.556, env_step=35000, len=50, n/ep=10, n/st=20, rew=132.10]                          \n"
     ]
    },
    {
     "name": "stdout",
     "output_type": "stream",
     "text": [
      "Epoch #14: test_reward: 178.000000 ± 0.000000, best_reward: 185.000000 ± 0.000000 in #1\n"
     ]
    },
    {
     "name": "stderr",
     "output_type": "stream",
     "text": [
      "Epoch #15: 2501it [00:26, 95.79it/s, agent0/loss=288.426, agent1/loss=268.768, agent2/loss=328.627, agent3/loss=261.210, agent4/loss=220.821, agent5/loss=243.814, agent6/loss=234.697, agent7/loss=158.927, agent8/loss=173.163, agent9/loss=183.073, env_step=37500, len=50, n/ep=10, n/st=20, rew=123.05]                           \n"
     ]
    },
    {
     "name": "stdout",
     "output_type": "stream",
     "text": [
      "Epoch #15: test_reward: 185.000000 ± 0.000000, best_reward: 185.000000 ± 0.000000 in #1\n"
     ]
    },
    {
     "name": "stderr",
     "output_type": "stream",
     "text": [
      "Epoch #16: 2501it [00:25, 96.43it/s, agent0/loss=302.495, agent1/loss=306.410, agent2/loss=346.393, agent3/loss=263.068, agent4/loss=251.472, agent5/loss=176.898, agent6/loss=210.685, agent7/loss=148.721, agent8/loss=198.846, agent9/loss=162.321, env_step=40000, len=50, n/ep=10, n/st=20, rew=123.45]                          \n"
     ]
    },
    {
     "name": "stdout",
     "output_type": "stream",
     "text": [
      "Epoch #16: test_reward: 185.000000 ± 0.000000, best_reward: 185.000000 ± 0.000000 in #1\n"
     ]
    },
    {
     "name": "stderr",
     "output_type": "stream",
     "text": [
      "Epoch #17: 2501it [00:33, 74.18it/s, agent0/loss=326.562, agent1/loss=286.830, agent2/loss=308.606, agent3/loss=251.101, agent4/loss=240.564, agent5/loss=231.447, agent6/loss=194.348, agent7/loss=162.189, agent8/loss=170.978, agent9/loss=167.030, env_step=42500, len=50, n/ep=10, n/st=20, rew=119.75]                          \n"
     ]
    },
    {
     "name": "stdout",
     "output_type": "stream",
     "text": [
      "Epoch #17: test_reward: 185.000000 ± 0.000000, best_reward: 185.000000 ± 0.000000 in #1\n"
     ]
    },
    {
     "name": "stderr",
     "output_type": "stream",
     "text": [
      "Epoch #18: 2501it [00:26, 93.87it/s, agent0/loss=310.983, agent1/loss=294.639, agent2/loss=316.898, agent3/loss=276.640, agent4/loss=241.680, agent5/loss=197.317, agent6/loss=174.742, agent8/loss=202.808, agent9/loss=174.926, env_step=45000, len=50, n/ep=10, n/st=20, rew=137.40]                                                \n"
     ]
    },
    {
     "name": "stdout",
     "output_type": "stream",
     "text": [
      "Epoch #18: test_reward: 185.000000 ± 0.000000, best_reward: 185.000000 ± 0.000000 in #1\n"
     ]
    },
    {
     "name": "stderr",
     "output_type": "stream",
     "text": [
      "Epoch #19: 2501it [00:24, 100.82it/s, agent0/loss=300.691, agent1/loss=273.878, agent2/loss=333.881, agent3/loss=311.997, agent4/loss=212.543, agent5/loss=237.911, agent6/loss=218.433, agent7/loss=175.147, agent8/loss=185.780, agent9/loss=183.532, env_step=47500, len=50, n/ep=10, n/st=20, rew=121.30]                         \n"
     ]
    },
    {
     "name": "stdout",
     "output_type": "stream",
     "text": [
      "Epoch #19: test_reward: 185.000000 ± 0.000000, best_reward: 185.000000 ± 0.000000 in #1\n"
     ]
    },
    {
     "name": "stderr",
     "output_type": "stream",
     "text": [
      "Epoch #20: 2501it [00:25, 98.04it/s, agent0/loss=292.698, agent1/loss=280.069, agent2/loss=332.158, agent4/loss=233.349, agent5/loss=217.139, agent6/loss=227.668, agent8/loss=164.166, agent9/loss=191.784, env_step=50000, len=50, n/ep=10, n/st=20, rew=129.20]                                                                    \n"
     ]
    },
    {
     "name": "stdout",
     "output_type": "stream",
     "text": [
      "Epoch #20: test_reward: 185.000000 ± 0.000000, best_reward: 185.000000 ± 0.000000 in #1\n"
     ]
    },
    {
     "name": "stderr",
     "output_type": "stream",
     "text": [
      "Epoch #21: 2501it [00:26, 93.66it/s, agent0/loss=307.996, agent1/loss=302.629, agent2/loss=320.332, agent3/loss=272.884, agent4/loss=210.390, agent5/loss=192.428, agent6/loss=214.994, agent7/loss=170.376, agent8/loss=180.742, agent9/loss=203.504, env_step=52500, len=50, n/ep=10, n/st=20, rew=129.90]                          \n"
     ]
    },
    {
     "name": "stdout",
     "output_type": "stream",
     "text": [
      "Epoch #21: test_reward: 185.000000 ± 0.000000, best_reward: 185.000000 ± 0.000000 in #1\n"
     ]
    },
    {
     "name": "stderr",
     "output_type": "stream",
     "text": [
      "Epoch #22: 2501it [00:27, 92.01it/s, agent0/loss=317.117, agent1/loss=279.147, agent2/loss=303.981, agent3/loss=257.219, agent4/loss=233.617, agent5/loss=242.314, agent6/loss=199.425, agent7/loss=159.269, agent8/loss=161.747, agent9/loss=209.379, env_step=55000, len=50, n/ep=10, n/st=20, rew=140.35]                          \n"
     ]
    },
    {
     "name": "stdout",
     "output_type": "stream",
     "text": [
      "Epoch #22: test_reward: 185.000000 ± 0.000000, best_reward: 185.000000 ± 0.000000 in #1\n"
     ]
    },
    {
     "name": "stderr",
     "output_type": "stream",
     "text": [
      "Epoch #23: 2501it [00:26, 93.88it/s, agent0/loss=346.299, agent1/loss=280.530, agent2/loss=313.836, agent3/loss=260.613, agent4/loss=231.653, agent5/loss=250.558, agent6/loss=182.435, agent7/loss=156.408, agent8/loss=163.535, agent9/loss=166.251, env_step=57500, len=50, n/ep=10, n/st=20, rew=127.65]                          \n"
     ]
    },
    {
     "name": "stdout",
     "output_type": "stream",
     "text": [
      "Epoch #23: test_reward: 185.000000 ± 0.000000, best_reward: 185.000000 ± 0.000000 in #1\n"
     ]
    },
    {
     "name": "stderr",
     "output_type": "stream",
     "text": [
      "Epoch #24: 2501it [00:27, 90.25it/s, agent0/loss=279.075, agent1/loss=314.546, agent2/loss=330.236, agent3/loss=273.303, agent4/loss=242.439, agent5/loss=234.815, agent6/loss=205.747, agent7/loss=170.814, agent8/loss=165.332, agent9/loss=179.075, env_step=60000, len=50, n/ep=10, n/st=20, rew=127.55]                          \n"
     ]
    },
    {
     "name": "stdout",
     "output_type": "stream",
     "text": [
      "Epoch #24: test_reward: 185.000000 ± 0.000000, best_reward: 185.000000 ± 0.000000 in #1\n"
     ]
    },
    {
     "name": "stderr",
     "output_type": "stream",
     "text": [
      "Epoch #25: 2501it [00:28, 89.06it/s, agent1/loss=307.620, agent2/loss=316.537, agent3/loss=312.568, agent4/loss=214.778, agent5/loss=225.706, agent6/loss=203.245, agent7/loss=156.737, agent8/loss=153.553, agent9/loss=168.319, env_step=62500, len=50, n/ep=10, n/st=20, rew=124.75]                                               \n"
     ]
    },
    {
     "name": "stdout",
     "output_type": "stream",
     "text": [
      "Epoch #25: test_reward: 185.000000 ± 0.000000, best_reward: 185.000000 ± 0.000000 in #1\n"
     ]
    },
    {
     "name": "stderr",
     "output_type": "stream",
     "text": [
      "Epoch #26: 2501it [00:26, 95.06it/s, agent0/loss=287.276, agent1/loss=291.683, agent2/loss=325.264, agent3/loss=290.950, agent4/loss=205.411, agent5/loss=216.765, agent6/loss=177.068, agent7/loss=174.495, agent8/loss=170.630, env_step=65000, len=50, n/ep=10, n/st=20, rew=121.05]                                               \n"
     ]
    },
    {
     "name": "stdout",
     "output_type": "stream",
     "text": [
      "Epoch #26: test_reward: 185.000000 ± 0.000000, best_reward: 185.000000 ± 0.000000 in #1\n"
     ]
    },
    {
     "name": "stderr",
     "output_type": "stream",
     "text": [
      "Epoch #27: 2501it [00:26, 94.17it/s, agent0/loss=309.077, agent1/loss=330.318, agent2/loss=267.690, agent3/loss=299.747, agent5/loss=197.439, agent6/loss=239.299, agent7/loss=170.448, agent8/loss=158.004, agent9/loss=207.314, env_step=67500, len=50, n/ep=10, n/st=20, rew=128.55]                                               \n"
     ]
    },
    {
     "name": "stdout",
     "output_type": "stream",
     "text": [
      "Epoch #27: test_reward: 185.000000 ± 0.000000, best_reward: 185.000000 ± 0.000000 in #1\n"
     ]
    },
    {
     "name": "stderr",
     "output_type": "stream",
     "text": [
      "Epoch #28: 2501it [00:27, 91.68it/s, agent0/loss=344.823, agent1/loss=244.570, agent2/loss=312.697, agent3/loss=279.002, agent4/loss=263.306, agent5/loss=216.365, agent6/loss=194.697, agent7/loss=163.609, agent8/loss=165.350, agent9/loss=227.235, env_step=70000, len=50, n/ep=10, n/st=20, rew=140.65]                          \n"
     ]
    },
    {
     "name": "stdout",
     "output_type": "stream",
     "text": [
      "Epoch #28: test_reward: 185.000000 ± 0.000000, best_reward: 185.000000 ± 0.000000 in #1\n"
     ]
    },
    {
     "name": "stderr",
     "output_type": "stream",
     "text": [
      "Epoch #29: 2501it [00:27, 90.49it/s, agent0/loss=298.226, agent1/loss=275.676, agent2/loss=312.465, agent3/loss=295.339, agent4/loss=235.302, agent5/loss=208.419, agent6/loss=198.158, agent7/loss=160.231, agent8/loss=186.116, agent9/loss=197.580, env_step=72500, len=50, n/ep=10, n/st=20, rew=138.30]                          \n"
     ]
    },
    {
     "name": "stdout",
     "output_type": "stream",
     "text": [
      "Epoch #29: test_reward: 185.000000 ± 0.000000, best_reward: 185.000000 ± 0.000000 in #1\n"
     ]
    },
    {
     "name": "stderr",
     "output_type": "stream",
     "text": [
      "Epoch #30: 2501it [00:27, 91.62it/s, agent0/loss=321.338, agent1/loss=285.784, agent2/loss=323.969, agent3/loss=303.493, agent4/loss=224.371, agent5/loss=202.512, agent6/loss=184.035, agent7/loss=190.416, agent8/loss=166.101, env_step=75000, len=50, n/ep=10, n/st=20, rew=123.85]                                               \n"
     ]
    },
    {
     "name": "stdout",
     "output_type": "stream",
     "text": [
      "Epoch #30: test_reward: 185.000000 ± 0.000000, best_reward: 185.000000 ± 0.000000 in #1\n"
     ]
    },
    {
     "name": "stderr",
     "output_type": "stream",
     "text": [
      "Epoch #31: 2501it [00:26, 94.09it/s, agent0/loss=347.199, agent1/loss=307.842, agent2/loss=319.264, agent3/loss=275.331, agent4/loss=238.220, agent5/loss=192.232, agent6/loss=228.339, agent7/loss=166.561, agent8/loss=142.611, agent9/loss=168.492, env_step=77500, len=50, n/ep=10, n/st=20, rew=127.00]                          \n"
     ]
    },
    {
     "name": "stdout",
     "output_type": "stream",
     "text": [
      "Epoch #31: test_reward: 185.000000 ± 0.000000, best_reward: 185.000000 ± 0.000000 in #1\n"
     ]
    },
    {
     "name": "stderr",
     "output_type": "stream",
     "text": [
      "Epoch #32: 2501it [00:26, 93.08it/s, agent0/loss=314.382, agent1/loss=285.903, agent2/loss=323.425, agent3/loss=259.907, agent5/loss=229.742, agent6/loss=201.197, agent7/loss=168.305, agent8/loss=186.400, agent9/loss=199.391, env_step=80000, len=50, n/ep=10, n/st=20, rew=147.85]                                               \n"
     ]
    },
    {
     "name": "stdout",
     "output_type": "stream",
     "text": [
      "Epoch #32: test_reward: 185.000000 ± 0.000000, best_reward: 185.000000 ± 0.000000 in #1\n"
     ]
    },
    {
     "name": "stderr",
     "output_type": "stream",
     "text": [
      "Epoch #33: 2501it [00:26, 93.48it/s, agent0/loss=316.189, agent1/loss=330.835, agent2/loss=348.731, agent3/loss=270.586, agent4/loss=254.148, agent5/loss=220.492, agent6/loss=182.112, agent7/loss=167.851, agent8/loss=202.122, agent9/loss=233.750, env_step=82500, len=50, n/ep=10, n/st=20, rew=132.40]                          \n"
     ]
    },
    {
     "name": "stdout",
     "output_type": "stream",
     "text": [
      "Epoch #33: test_reward: 185.000000 ± 0.000000, best_reward: 185.000000 ± 0.000000 in #1\n"
     ]
    },
    {
     "name": "stderr",
     "output_type": "stream",
     "text": [
      "Epoch #34: 2501it [00:26, 92.95it/s, agent0/loss=279.945, agent1/loss=293.953, agent2/loss=328.591, agent3/loss=241.120, agent4/loss=220.460, agent5/loss=238.969, agent6/loss=193.427, agent7/loss=141.324, agent8/loss=212.721, agent9/loss=179.663, env_step=85000, len=50, n/ep=10, n/st=20, rew=133.00]                          \n"
     ]
    },
    {
     "name": "stdout",
     "output_type": "stream",
     "text": [
      "Epoch #34: test_reward: 185.000000 ± 0.000000, best_reward: 185.000000 ± 0.000000 in #1\n"
     ]
    },
    {
     "name": "stderr",
     "output_type": "stream",
     "text": [
      "Epoch #35: 2501it [00:27, 92.48it/s, agent0/loss=286.020, agent1/loss=278.468, agent2/loss=305.507, agent3/loss=310.749, agent4/loss=232.562, agent5/loss=202.144, agent7/loss=166.613, agent8/loss=172.223, agent9/loss=187.738, env_step=87500, len=50, n/ep=10, n/st=20, rew=117.65]                                               \n"
     ]
    },
    {
     "name": "stdout",
     "output_type": "stream",
     "text": [
      "Epoch #35: test_reward: 185.000000 ± 0.000000, best_reward: 185.000000 ± 0.000000 in #1\n"
     ]
    },
    {
     "name": "stderr",
     "output_type": "stream",
     "text": [
      "Epoch #36: 2501it [00:26, 93.37it/s, agent0/loss=321.890, agent1/loss=291.230, agent2/loss=278.743, agent3/loss=267.652, agent4/loss=216.351, agent5/loss=186.896, agent6/loss=203.673, agent7/loss=170.350, agent8/loss=175.924, agent9/loss=213.891, env_step=90000, len=50, n/ep=10, n/st=20, rew=136.55]                          \n"
     ]
    },
    {
     "name": "stdout",
     "output_type": "stream",
     "text": [
      "Epoch #36: test_reward: 185.000000 ± 0.000000, best_reward: 185.000000 ± 0.000000 in #1\n"
     ]
    },
    {
     "name": "stderr",
     "output_type": "stream",
     "text": [
      "Epoch #37: 2501it [00:31, 80.25it/s, agent0/loss=262.218, agent1/loss=270.854, agent2/loss=291.875, agent3/loss=238.901, agent4/loss=251.010, agent5/loss=236.898, agent6/loss=210.598, agent7/loss=165.182, agent8/loss=168.741, agent9/loss=201.521, env_step=92500, len=50, n/ep=10, n/st=20, rew=131.65]                          \n"
     ]
    },
    {
     "name": "stdout",
     "output_type": "stream",
     "text": [
      "Epoch #37: test_reward: 185.000000 ± 0.000000, best_reward: 185.000000 ± 0.000000 in #1\n"
     ]
    },
    {
     "name": "stderr",
     "output_type": "stream",
     "text": [
      "Epoch #38: 2501it [00:33, 74.67it/s, agent0/loss=266.692, agent2/loss=289.587, agent3/loss=254.507, agent4/loss=281.885, agent5/loss=234.803, agent6/loss=208.525, agent7/loss=178.074, agent8/loss=184.938, agent9/loss=206.286, env_step=95000, len=50, n/ep=10, n/st=20, rew=134.40]                                               \n"
     ]
    },
    {
     "name": "stdout",
     "output_type": "stream",
     "text": [
      "Epoch #38: test_reward: 185.000000 ± 0.000000, best_reward: 185.000000 ± 0.000000 in #1\n"
     ]
    },
    {
     "name": "stderr",
     "output_type": "stream",
     "text": [
      "Epoch #39: 2501it [00:31, 79.68it/s, agent0/loss=292.200, agent1/loss=254.341, agent2/loss=307.186, agent3/loss=291.060, agent4/loss=234.870, agent5/loss=221.243, agent6/loss=189.876, agent7/loss=179.378, agent8/loss=197.130, agent9/loss=151.580, env_step=97500, len=50, n/ep=10, n/st=20, rew=133.45]                          \n"
     ]
    },
    {
     "name": "stdout",
     "output_type": "stream",
     "text": [
      "Epoch #39: test_reward: 185.000000 ± 0.000000, best_reward: 185.000000 ± 0.000000 in #1\n"
     ]
    },
    {
     "name": "stderr",
     "output_type": "stream",
     "text": [
      "Epoch #40: 2501it [00:28, 86.38it/s, agent0/loss=312.082, agent1/loss=282.167, agent2/loss=259.800, agent3/loss=317.560, agent4/loss=231.462, agent5/loss=209.304, agent6/loss=215.407, agent7/loss=160.469, agent8/loss=183.468, agent9/loss=213.945, env_step=100000, len=50, n/ep=10, n/st=20, rew=132.35]                          \n"
     ]
    },
    {
     "name": "stdout",
     "output_type": "stream",
     "text": [
      "Epoch #40: test_reward: 185.000000 ± 0.000000, best_reward: 185.000000 ± 0.000000 in #1\n"
     ]
    },
    {
     "name": "stderr",
     "output_type": "stream",
     "text": [
      "Epoch #41: 2501it [00:25, 97.30it/s, agent1/loss=301.464, agent2/loss=302.065, agent3/loss=247.236, agent4/loss=244.221, agent5/loss=202.660, agent6/loss=245.265, agent7/loss=155.041, agent8/loss=135.648, agent9/loss=169.203, env_step=102500, len=50, n/ep=10, n/st=20, rew=126.70]                                                \n"
     ]
    },
    {
     "name": "stdout",
     "output_type": "stream",
     "text": [
      "Epoch #41: test_reward: 185.000000 ± 0.000000, best_reward: 185.000000 ± 0.000000 in #1\n"
     ]
    },
    {
     "name": "stderr",
     "output_type": "stream",
     "text": [
      "Epoch #42: 2501it [00:26, 95.61it/s, agent0/loss=268.121, agent1/loss=276.616, agent2/loss=329.330, agent3/loss=272.602, agent4/loss=237.715, agent5/loss=208.494, agent6/loss=220.229, agent7/loss=181.553, agent8/loss=160.522, agent9/loss=180.430, env_step=105000, len=50, n/ep=10, n/st=20, rew=132.10]                           \n"
     ]
    },
    {
     "name": "stdout",
     "output_type": "stream",
     "text": [
      "Epoch #42: test_reward: 185.000000 ± 0.000000, best_reward: 185.000000 ± 0.000000 in #1\n"
     ]
    },
    {
     "name": "stderr",
     "output_type": "stream",
     "text": [
      "Epoch #43: 2501it [00:24, 102.12it/s, agent0/loss=292.185, agent1/loss=294.978, agent2/loss=324.129, agent3/loss=276.206, agent4/loss=230.394, agent5/loss=212.137, agent6/loss=212.421, agent7/loss=184.997, agent8/loss=210.425, agent9/loss=196.244, env_step=107500, len=50, n/ep=10, n/st=20, rew=126.40]                          \n"
     ]
    },
    {
     "name": "stdout",
     "output_type": "stream",
     "text": [
      "Epoch #43: test_reward: 185.000000 ± 0.000000, best_reward: 185.000000 ± 0.000000 in #1\n"
     ]
    },
    {
     "name": "stderr",
     "output_type": "stream",
     "text": [
      "Epoch #44: 2501it [00:26, 93.44it/s, agent0/loss=290.197, agent1/loss=339.638, agent2/loss=306.395, agent3/loss=229.450, agent4/loss=238.354, agent5/loss=240.514, agent6/loss=203.391, agent7/loss=175.689, agent8/loss=176.905, agent9/loss=174.896, env_step=110000, len=50, n/ep=10, n/st=20, rew=134.10]                          \n"
     ]
    },
    {
     "name": "stdout",
     "output_type": "stream",
     "text": [
      "Epoch #44: test_reward: 185.000000 ± 0.000000, best_reward: 185.000000 ± 0.000000 in #1\n"
     ]
    },
    {
     "name": "stderr",
     "output_type": "stream",
     "text": [
      "Epoch #45: 2501it [00:25, 99.22it/s, agent0/loss=312.329, agent1/loss=277.399, agent2/loss=307.014, agent3/loss=306.218, agent4/loss=237.380, agent6/loss=208.140, agent7/loss=198.171, agent8/loss=177.247, agent9/loss=166.998, env_step=112500, len=50, n/ep=10, n/st=20, rew=131.90]                                                \n"
     ]
    },
    {
     "name": "stdout",
     "output_type": "stream",
     "text": [
      "Epoch #45: test_reward: 185.000000 ± 0.000000, best_reward: 185.000000 ± 0.000000 in #1\n"
     ]
    },
    {
     "name": "stderr",
     "output_type": "stream",
     "text": [
      "Epoch #46: 2501it [00:25, 99.62it/s, agent0/loss=313.633, agent1/loss=269.011, agent2/loss=318.349, agent4/loss=263.798, agent5/loss=201.032, agent7/loss=155.675, agent8/loss=193.950, env_step=115000, len=50, n/ep=10, n/st=20, rew=132.25]                                                                                          \n"
     ]
    },
    {
     "name": "stdout",
     "output_type": "stream",
     "text": [
      "Epoch #46: test_reward: 185.000000 ± 0.000000, best_reward: 185.000000 ± 0.000000 in #1\n"
     ]
    },
    {
     "name": "stderr",
     "output_type": "stream",
     "text": [
      "Epoch #47: 2501it [00:24, 102.49it/s, agent0/loss=329.599, agent1/loss=304.350, agent2/loss=332.752, agent4/loss=242.942, agent5/loss=211.380, agent6/loss=200.698, agent7/loss=176.900, agent9/loss=220.485, env_step=117500, len=50, n/ep=10, n/st=20, rew=144.80]                                                                    \n"
     ]
    },
    {
     "name": "stdout",
     "output_type": "stream",
     "text": [
      "Epoch #47: test_reward: 185.000000 ± 0.000000, best_reward: 185.000000 ± 0.000000 in #1\n"
     ]
    },
    {
     "name": "stderr",
     "output_type": "stream",
     "text": [
      "Epoch #48: 2501it [00:24, 101.11it/s, agent0/loss=318.454, agent1/loss=300.936, agent2/loss=306.291, agent3/loss=283.871, agent4/loss=260.479, agent5/loss=216.311, agent6/loss=231.276, agent7/loss=174.063, agent8/loss=184.184, agent9/loss=229.167, env_step=120000, len=50, n/ep=10, n/st=20, rew=130.05]                          \n"
     ]
    },
    {
     "name": "stdout",
     "output_type": "stream",
     "text": [
      "Epoch #48: test_reward: 185.000000 ± 0.000000, best_reward: 185.000000 ± 0.000000 in #1\n"
     ]
    },
    {
     "name": "stderr",
     "output_type": "stream",
     "text": [
      "Epoch #49:  38%|###7      | 940/2500 [00:10<00:17, 91.67it/s, agent0/loss=305.855, agent1/loss=270.213, agent2/loss=296.074, agent3/loss=266.801, agent4/loss=272.704, agent5/loss=227.276, agent6/loss=199.069, agent7/loss=187.088, agent9/loss=207.807, env_step=120920, len=50, n/ep=0, n/st=20, rew=137.35]                       \n"
     ]
    },
    {
     "ename": "KeyboardInterrupt",
     "evalue": "",
     "output_type": "error",
     "traceback": [
      "\u001b[1;31m---------------------------------------------------------------------------\u001b[0m",
      "\u001b[1;31mKeyboardInterrupt\u001b[0m                         Traceback (most recent call last)",
      "\u001b[1;32md:\\GITHUB\\Multi-UAV-TA-gym-env\\Tianshow_Centralized_Training.ipynb Cell 2\u001b[0m line \u001b[0;36m6\n\u001b[0;32m     <a href='vscode-notebook-cell:/d%3A/GITHUB/Multi-UAV-TA-gym-env/Tianshow_Centralized_Training.ipynb#W1sZmlsZQ%3D%3D?line=58'>59</a>\u001b[0m     \u001b[39mreturn\u001b[39;00m rews\u001b[39m.\u001b[39mmean()\u001b[39m#[:,0]\u001b[39;00m\n\u001b[0;32m     <a href='vscode-notebook-cell:/d%3A/GITHUB/Multi-UAV-TA-gym-env/Tianshow_Centralized_Training.ipynb#W1sZmlsZQ%3D%3D?line=60'>61</a>\u001b[0m \u001b[39m# ======== Step 5: Run the trainer =========\u001b[39;00m\n\u001b[1;32m---> <a href='vscode-notebook-cell:/d%3A/GITHUB/Multi-UAV-TA-gym-env/Tianshow_Centralized_Training.ipynb#W1sZmlsZQ%3D%3D?line=61'>62</a>\u001b[0m result \u001b[39m=\u001b[39m offpolicy_trainer(\n\u001b[0;32m     <a href='vscode-notebook-cell:/d%3A/GITHUB/Multi-UAV-TA-gym-env/Tianshow_Centralized_Training.ipynb#W1sZmlsZQ%3D%3D?line=62'>63</a>\u001b[0m     policy\u001b[39m=\u001b[39;49mpolicy,\n\u001b[0;32m     <a href='vscode-notebook-cell:/d%3A/GITHUB/Multi-UAV-TA-gym-env/Tianshow_Centralized_Training.ipynb#W1sZmlsZQ%3D%3D?line=63'>64</a>\u001b[0m     train_collector\u001b[39m=\u001b[39;49mtrain_collector,\n\u001b[0;32m     <a href='vscode-notebook-cell:/d%3A/GITHUB/Multi-UAV-TA-gym-env/Tianshow_Centralized_Training.ipynb#W1sZmlsZQ%3D%3D?line=64'>65</a>\u001b[0m     test_collector\u001b[39m=\u001b[39;49mtest_collector,        \n\u001b[0;32m     <a href='vscode-notebook-cell:/d%3A/GITHUB/Multi-UAV-TA-gym-env/Tianshow_Centralized_Training.ipynb#W1sZmlsZQ%3D%3D?line=65'>66</a>\u001b[0m     max_epoch\u001b[39m=\u001b[39;49mtrainer_params[\u001b[39m'\u001b[39;49m\u001b[39mmax_epoch\u001b[39;49m\u001b[39m'\u001b[39;49m],\n\u001b[0;32m     <a href='vscode-notebook-cell:/d%3A/GITHUB/Multi-UAV-TA-gym-env/Tianshow_Centralized_Training.ipynb#W1sZmlsZQ%3D%3D?line=66'>67</a>\u001b[0m     step_per_epoch\u001b[39m=\u001b[39;49mtrainer_params[\u001b[39m'\u001b[39;49m\u001b[39mstep_per_epoch\u001b[39;49m\u001b[39m'\u001b[39;49m],\n\u001b[0;32m     <a href='vscode-notebook-cell:/d%3A/GITHUB/Multi-UAV-TA-gym-env/Tianshow_Centralized_Training.ipynb#W1sZmlsZQ%3D%3D?line=67'>68</a>\u001b[0m     step_per_collect\u001b[39m=\u001b[39;49mtrainer_params[\u001b[39m'\u001b[39;49m\u001b[39mstep_per_collect\u001b[39;49m\u001b[39m'\u001b[39;49m],\n\u001b[0;32m     <a href='vscode-notebook-cell:/d%3A/GITHUB/Multi-UAV-TA-gym-env/Tianshow_Centralized_Training.ipynb#W1sZmlsZQ%3D%3D?line=68'>69</a>\u001b[0m     episode_per_test\u001b[39m=\u001b[39;49m trainer_params[\u001b[39m'\u001b[39;49m\u001b[39mepisode_per_test\u001b[39;49m\u001b[39m'\u001b[39;49m],\n\u001b[0;32m     <a href='vscode-notebook-cell:/d%3A/GITHUB/Multi-UAV-TA-gym-env/Tianshow_Centralized_Training.ipynb#W1sZmlsZQ%3D%3D?line=69'>70</a>\u001b[0m     batch_size\u001b[39m=\u001b[39;49mtrainer_params[\u001b[39m'\u001b[39;49m\u001b[39mbatch_size\u001b[39;49m\u001b[39m'\u001b[39;49m],\n\u001b[0;32m     <a href='vscode-notebook-cell:/d%3A/GITHUB/Multi-UAV-TA-gym-env/Tianshow_Centralized_Training.ipynb#W1sZmlsZQ%3D%3D?line=70'>71</a>\u001b[0m     train_fn\u001b[39m=\u001b[39;49mtrain_fn,\n\u001b[0;32m     <a href='vscode-notebook-cell:/d%3A/GITHUB/Multi-UAV-TA-gym-env/Tianshow_Centralized_Training.ipynb#W1sZmlsZQ%3D%3D?line=71'>72</a>\u001b[0m     test_fn\u001b[39m=\u001b[39;49mtest_fn,\n\u001b[0;32m     <a href='vscode-notebook-cell:/d%3A/GITHUB/Multi-UAV-TA-gym-env/Tianshow_Centralized_Training.ipynb#W1sZmlsZQ%3D%3D?line=72'>73</a>\u001b[0m     stop_fn\u001b[39m=\u001b[39;49mstop_fn,\n\u001b[0;32m     <a href='vscode-notebook-cell:/d%3A/GITHUB/Multi-UAV-TA-gym-env/Tianshow_Centralized_Training.ipynb#W1sZmlsZQ%3D%3D?line=73'>74</a>\u001b[0m     save_best_fn\u001b[39m=\u001b[39;49msave_best_fn,\n\u001b[0;32m     <a href='vscode-notebook-cell:/d%3A/GITHUB/Multi-UAV-TA-gym-env/Tianshow_Centralized_Training.ipynb#W1sZmlsZQ%3D%3D?line=74'>75</a>\u001b[0m     update_per_step\u001b[39m=\u001b[39;49mtrainer_params[\u001b[39m'\u001b[39;49m\u001b[39mupdate_per_step\u001b[39;49m\u001b[39m'\u001b[39;49m],\n\u001b[0;32m     <a href='vscode-notebook-cell:/d%3A/GITHUB/Multi-UAV-TA-gym-env/Tianshow_Centralized_Training.ipynb#W1sZmlsZQ%3D%3D?line=75'>76</a>\u001b[0m     logger\u001b[39m=\u001b[39;49mlogger,\n\u001b[0;32m     <a href='vscode-notebook-cell:/d%3A/GITHUB/Multi-UAV-TA-gym-env/Tianshow_Centralized_Training.ipynb#W1sZmlsZQ%3D%3D?line=76'>77</a>\u001b[0m     test_in_train\u001b[39m=\u001b[39;49m\u001b[39mFalse\u001b[39;49;00m,\n\u001b[0;32m     <a href='vscode-notebook-cell:/d%3A/GITHUB/Multi-UAV-TA-gym-env/Tianshow_Centralized_Training.ipynb#W1sZmlsZQ%3D%3D?line=77'>78</a>\u001b[0m     reward_metric\u001b[39m=\u001b[39;49mreward_metric,\n\u001b[0;32m     <a href='vscode-notebook-cell:/d%3A/GITHUB/Multi-UAV-TA-gym-env/Tianshow_Centralized_Training.ipynb#W1sZmlsZQ%3D%3D?line=78'>79</a>\u001b[0m     show_progress \u001b[39m=\u001b[39;49m \u001b[39mTrue\u001b[39;49;00m          \n\u001b[0;32m     <a href='vscode-notebook-cell:/d%3A/GITHUB/Multi-UAV-TA-gym-env/Tianshow_Centralized_Training.ipynb#W1sZmlsZQ%3D%3D?line=79'>80</a>\u001b[0m     )\n\u001b[0;32m     <a href='vscode-notebook-cell:/d%3A/GITHUB/Multi-UAV-TA-gym-env/Tianshow_Centralized_Training.ipynb#W1sZmlsZQ%3D%3D?line=81'>82</a>\u001b[0m \u001b[39m# return result, policy.policies[agents[1]]\u001b[39;00m\n\u001b[0;32m     <a href='vscode-notebook-cell:/d%3A/GITHUB/Multi-UAV-TA-gym-env/Tianshow_Centralized_Training.ipynb#W1sZmlsZQ%3D%3D?line=82'>83</a>\u001b[0m \u001b[39mprint\u001b[39m(\u001b[39mf\u001b[39m\u001b[39m\"\u001b[39m\u001b[39m\\n\u001b[39;00m\u001b[39m==========Result==========\u001b[39m\u001b[39m\\n\u001b[39;00m\u001b[39m{\u001b[39;00mresult\u001b[39m}\u001b[39;00m\u001b[39m\"\u001b[39m)\n",
      "File \u001b[1;32md:\\Python310\\lib\\site-packages\\tianshou\\trainer\\offpolicy.py:133\u001b[0m, in \u001b[0;36moffpolicy_trainer\u001b[1;34m(*args, **kwargs)\u001b[0m\n\u001b[0;32m    126\u001b[0m \u001b[39mdef\u001b[39;00m \u001b[39moffpolicy_trainer\u001b[39m(\u001b[39m*\u001b[39margs, \u001b[39m*\u001b[39m\u001b[39m*\u001b[39mkwargs) \u001b[39m-\u001b[39m\u001b[39m>\u001b[39m Dict[\u001b[39mstr\u001b[39m, Union[\u001b[39mfloat\u001b[39m, \u001b[39mstr\u001b[39m]]:  \u001b[39m# type: ignore\u001b[39;00m\n\u001b[0;32m    127\u001b[0m \u001b[39m    \u001b[39m\u001b[39m\"\"\"Wrapper for OffPolicyTrainer run method.\u001b[39;00m\n\u001b[0;32m    128\u001b[0m \n\u001b[0;32m    129\u001b[0m \u001b[39m    It is identical to ``OffpolicyTrainer(...).run()``.\u001b[39;00m\n\u001b[0;32m    130\u001b[0m \n\u001b[0;32m    131\u001b[0m \u001b[39m    :return: See :func:`~tianshou.trainer.gather_info`.\u001b[39;00m\n\u001b[0;32m    132\u001b[0m \u001b[39m    \"\"\"\u001b[39;00m\n\u001b[1;32m--> 133\u001b[0m     \u001b[39mreturn\u001b[39;00m OffpolicyTrainer(\u001b[39m*\u001b[39;49margs, \u001b[39m*\u001b[39;49m\u001b[39m*\u001b[39;49mkwargs)\u001b[39m.\u001b[39;49mrun()\n",
      "File \u001b[1;32md:\\Python310\\lib\\site-packages\\tianshou\\trainer\\base.py:441\u001b[0m, in \u001b[0;36mBaseTrainer.run\u001b[1;34m(self)\u001b[0m\n\u001b[0;32m    439\u001b[0m \u001b[39mtry\u001b[39;00m:\n\u001b[0;32m    440\u001b[0m     \u001b[39mself\u001b[39m\u001b[39m.\u001b[39mis_run \u001b[39m=\u001b[39m \u001b[39mTrue\u001b[39;00m\n\u001b[1;32m--> 441\u001b[0m     deque(\u001b[39mself\u001b[39;49m, maxlen\u001b[39m=\u001b[39;49m\u001b[39m0\u001b[39;49m)  \u001b[39m# feed the entire iterator into a zero-length deque\u001b[39;00m\n\u001b[0;32m    442\u001b[0m     info \u001b[39m=\u001b[39m gather_info(\n\u001b[0;32m    443\u001b[0m         \u001b[39mself\u001b[39m\u001b[39m.\u001b[39mstart_time, \u001b[39mself\u001b[39m\u001b[39m.\u001b[39mtrain_collector, \u001b[39mself\u001b[39m\u001b[39m.\u001b[39mtest_collector,\n\u001b[0;32m    444\u001b[0m         \u001b[39mself\u001b[39m\u001b[39m.\u001b[39mbest_reward, \u001b[39mself\u001b[39m\u001b[39m.\u001b[39mbest_reward_std\n\u001b[0;32m    445\u001b[0m     )\n\u001b[0;32m    446\u001b[0m \u001b[39mfinally\u001b[39;00m:\n",
      "File \u001b[1;32md:\\Python310\\lib\\site-packages\\tianshou\\trainer\\base.py:299\u001b[0m, in \u001b[0;36mBaseTrainer.__next__\u001b[1;34m(self)\u001b[0m\n\u001b[0;32m    296\u001b[0m         result[\u001b[39m\"\u001b[39m\u001b[39mn/st\u001b[39m\u001b[39m\"\u001b[39m] \u001b[39m=\u001b[39m \u001b[39mint\u001b[39m(\u001b[39mself\u001b[39m\u001b[39m.\u001b[39mgradient_step)\n\u001b[0;32m    297\u001b[0m         t\u001b[39m.\u001b[39mupdate()\n\u001b[1;32m--> 299\u001b[0m     \u001b[39mself\u001b[39;49m\u001b[39m.\u001b[39;49mpolicy_update_fn(data, result)\n\u001b[0;32m    300\u001b[0m     t\u001b[39m.\u001b[39mset_postfix(\u001b[39m*\u001b[39m\u001b[39m*\u001b[39mdata)\n\u001b[0;32m    302\u001b[0m \u001b[39mif\u001b[39;00m t\u001b[39m.\u001b[39mn \u001b[39m<\u001b[39m\u001b[39m=\u001b[39m t\u001b[39m.\u001b[39mtotal \u001b[39mand\u001b[39;00m \u001b[39mnot\u001b[39;00m \u001b[39mself\u001b[39m\u001b[39m.\u001b[39mstop_fn_flag:\n",
      "File \u001b[1;32md:\\Python310\\lib\\site-packages\\tianshou\\trainer\\offpolicy.py:122\u001b[0m, in \u001b[0;36mOffpolicyTrainer.policy_update_fn\u001b[1;34m(self, data, result)\u001b[0m\n\u001b[0;32m    120\u001b[0m \u001b[39mfor\u001b[39;00m _ \u001b[39min\u001b[39;00m \u001b[39mrange\u001b[39m(\u001b[39mround\u001b[39m(\u001b[39mself\u001b[39m\u001b[39m.\u001b[39mupdate_per_step \u001b[39m*\u001b[39m result[\u001b[39m\"\u001b[39m\u001b[39mn/st\u001b[39m\u001b[39m\"\u001b[39m])):\n\u001b[0;32m    121\u001b[0m     \u001b[39mself\u001b[39m\u001b[39m.\u001b[39mgradient_step \u001b[39m+\u001b[39m\u001b[39m=\u001b[39m \u001b[39m1\u001b[39m\n\u001b[1;32m--> 122\u001b[0m     losses \u001b[39m=\u001b[39m \u001b[39mself\u001b[39;49m\u001b[39m.\u001b[39;49mpolicy\u001b[39m.\u001b[39;49mupdate(\u001b[39mself\u001b[39;49m\u001b[39m.\u001b[39;49mbatch_size, \u001b[39mself\u001b[39;49m\u001b[39m.\u001b[39;49mtrain_collector\u001b[39m.\u001b[39;49mbuffer)\n\u001b[0;32m    123\u001b[0m     \u001b[39mself\u001b[39m\u001b[39m.\u001b[39mlog_update_data(data, losses)\n",
      "File \u001b[1;32md:\\Python310\\lib\\site-packages\\tianshou\\policy\\base.py:277\u001b[0m, in \u001b[0;36mBasePolicy.update\u001b[1;34m(self, sample_size, buffer, **kwargs)\u001b[0m\n\u001b[0;32m    275\u001b[0m \u001b[39mself\u001b[39m\u001b[39m.\u001b[39mupdating \u001b[39m=\u001b[39m \u001b[39mTrue\u001b[39;00m\n\u001b[0;32m    276\u001b[0m batch \u001b[39m=\u001b[39m \u001b[39mself\u001b[39m\u001b[39m.\u001b[39mprocess_fn(batch, buffer, indices)\n\u001b[1;32m--> 277\u001b[0m result \u001b[39m=\u001b[39m \u001b[39mself\u001b[39m\u001b[39m.\u001b[39mlearn(batch, \u001b[39m*\u001b[39m\u001b[39m*\u001b[39mkwargs)\n\u001b[0;32m    278\u001b[0m \u001b[39mself\u001b[39m\u001b[39m.\u001b[39mpost_process_fn(batch, buffer, indices)\n\u001b[0;32m    279\u001b[0m \u001b[39mif\u001b[39;00m \u001b[39mself\u001b[39m\u001b[39m.\u001b[39mlr_scheduler \u001b[39mis\u001b[39;00m \u001b[39mnot\u001b[39;00m \u001b[39mNone\u001b[39;00m:\n",
      "File \u001b[1;32md:\\Python310\\lib\\site-packages\\tianshou\\policy\\multiagent\\mapolicy.py:195\u001b[0m, in \u001b[0;36mMultiAgentPolicyManager.learn\u001b[1;34m(self, batch, **kwargs)\u001b[0m\n\u001b[0;32m    193\u001b[0m data \u001b[39m=\u001b[39m batch[agent_id]\n\u001b[0;32m    194\u001b[0m \u001b[39mif\u001b[39;00m \u001b[39mnot\u001b[39;00m data\u001b[39m.\u001b[39mis_empty():\n\u001b[1;32m--> 195\u001b[0m     out \u001b[39m=\u001b[39m policy\u001b[39m.\u001b[39mlearn(batch\u001b[39m=\u001b[39mdata, \u001b[39m*\u001b[39m\u001b[39m*\u001b[39mkwargs)\n\u001b[0;32m    196\u001b[0m     \u001b[39mfor\u001b[39;00m k, v \u001b[39min\u001b[39;00m out\u001b[39m.\u001b[39mitems():\n\u001b[0;32m    197\u001b[0m         results[agent_id \u001b[39m+\u001b[39m \u001b[39m\"\u001b[39m\u001b[39m/\u001b[39m\u001b[39m\"\u001b[39m \u001b[39m+\u001b[39m k] \u001b[39m=\u001b[39m v\n",
      "File \u001b[1;32md:\\Python310\\lib\\site-packages\\tianshou\\policy\\modelfree\\dqn.py:174\u001b[0m, in \u001b[0;36mDQNPolicy.learn\u001b[1;34m(self, batch, **kwargs)\u001b[0m\n\u001b[0;32m    172\u001b[0m \u001b[39mself\u001b[39m\u001b[39m.\u001b[39moptim\u001b[39m.\u001b[39mzero_grad()\n\u001b[0;32m    173\u001b[0m weight \u001b[39m=\u001b[39m batch\u001b[39m.\u001b[39mpop(\u001b[39m\"\u001b[39m\u001b[39mweight\u001b[39m\u001b[39m\"\u001b[39m, \u001b[39m1.0\u001b[39m)\n\u001b[1;32m--> 174\u001b[0m q \u001b[39m=\u001b[39m \u001b[39mself\u001b[39;49m(batch)\u001b[39m.\u001b[39mlogits\n\u001b[0;32m    175\u001b[0m q \u001b[39m=\u001b[39m q[np\u001b[39m.\u001b[39marange(\u001b[39mlen\u001b[39m(q)), batch\u001b[39m.\u001b[39mact]\n\u001b[0;32m    176\u001b[0m returns \u001b[39m=\u001b[39m to_torch_as(batch\u001b[39m.\u001b[39mreturns\u001b[39m.\u001b[39mflatten(), q)\n",
      "File \u001b[1;32md:\\Python310\\lib\\site-packages\\torch\\nn\\modules\\module.py:1501\u001b[0m, in \u001b[0;36mModule._call_impl\u001b[1;34m(self, *args, **kwargs)\u001b[0m\n\u001b[0;32m   1496\u001b[0m \u001b[39m# If we don't have any hooks, we want to skip the rest of the logic in\u001b[39;00m\n\u001b[0;32m   1497\u001b[0m \u001b[39m# this function, and just call forward.\u001b[39;00m\n\u001b[0;32m   1498\u001b[0m \u001b[39mif\u001b[39;00m \u001b[39mnot\u001b[39;00m (\u001b[39mself\u001b[39m\u001b[39m.\u001b[39m_backward_hooks \u001b[39mor\u001b[39;00m \u001b[39mself\u001b[39m\u001b[39m.\u001b[39m_backward_pre_hooks \u001b[39mor\u001b[39;00m \u001b[39mself\u001b[39m\u001b[39m.\u001b[39m_forward_hooks \u001b[39mor\u001b[39;00m \u001b[39mself\u001b[39m\u001b[39m.\u001b[39m_forward_pre_hooks\n\u001b[0;32m   1499\u001b[0m         \u001b[39mor\u001b[39;00m _global_backward_pre_hooks \u001b[39mor\u001b[39;00m _global_backward_hooks\n\u001b[0;32m   1500\u001b[0m         \u001b[39mor\u001b[39;00m _global_forward_hooks \u001b[39mor\u001b[39;00m _global_forward_pre_hooks):\n\u001b[1;32m-> 1501\u001b[0m     \u001b[39mreturn\u001b[39;00m forward_call(\u001b[39m*\u001b[39margs, \u001b[39m*\u001b[39m\u001b[39m*\u001b[39mkwargs)\n\u001b[0;32m   1502\u001b[0m \u001b[39m# Do not call functions when jit is used\u001b[39;00m\n\u001b[0;32m   1503\u001b[0m full_backward_hooks, non_full_backward_hooks \u001b[39m=\u001b[39m [], []\n",
      "File \u001b[1;32md:\\Python310\\lib\\site-packages\\tianshou\\policy\\modelfree\\dqn.py:160\u001b[0m, in \u001b[0;36mDQNPolicy.forward\u001b[1;34m(self, batch, state, model, input, **kwargs)\u001b[0m\n\u001b[0;32m    158\u001b[0m obs \u001b[39m=\u001b[39m batch[\u001b[39minput\u001b[39m]\n\u001b[0;32m    159\u001b[0m obs_next \u001b[39m=\u001b[39m obs\u001b[39m.\u001b[39mobs \u001b[39mif\u001b[39;00m \u001b[39mhasattr\u001b[39m(obs, \u001b[39m\"\u001b[39m\u001b[39mobs\u001b[39m\u001b[39m\"\u001b[39m) \u001b[39melse\u001b[39;00m obs\n\u001b[1;32m--> 160\u001b[0m logits, hidden \u001b[39m=\u001b[39m model(obs_next, state\u001b[39m=\u001b[39;49mstate, info\u001b[39m=\u001b[39;49mbatch\u001b[39m.\u001b[39;49minfo)\n\u001b[0;32m    161\u001b[0m q \u001b[39m=\u001b[39m \u001b[39mself\u001b[39m\u001b[39m.\u001b[39mcompute_q_value(logits, \u001b[39mgetattr\u001b[39m(obs, \u001b[39m\"\u001b[39m\u001b[39mmask\u001b[39m\u001b[39m\"\u001b[39m, \u001b[39mNone\u001b[39;00m))        \n\u001b[0;32m    162\u001b[0m \u001b[39mif\u001b[39;00m \u001b[39mnot\u001b[39;00m \u001b[39mhasattr\u001b[39m(\u001b[39mself\u001b[39m, \u001b[39m\"\u001b[39m\u001b[39mmax_action_num\u001b[39m\u001b[39m\"\u001b[39m):\n",
      "File \u001b[1;32md:\\Python310\\lib\\site-packages\\torch\\nn\\modules\\module.py:1501\u001b[0m, in \u001b[0;36mModule._call_impl\u001b[1;34m(self, *args, **kwargs)\u001b[0m\n\u001b[0;32m   1496\u001b[0m \u001b[39m# If we don't have any hooks, we want to skip the rest of the logic in\u001b[39;00m\n\u001b[0;32m   1497\u001b[0m \u001b[39m# this function, and just call forward.\u001b[39;00m\n\u001b[0;32m   1498\u001b[0m \u001b[39mif\u001b[39;00m \u001b[39mnot\u001b[39;00m (\u001b[39mself\u001b[39m\u001b[39m.\u001b[39m_backward_hooks \u001b[39mor\u001b[39;00m \u001b[39mself\u001b[39m\u001b[39m.\u001b[39m_backward_pre_hooks \u001b[39mor\u001b[39;00m \u001b[39mself\u001b[39m\u001b[39m.\u001b[39m_forward_hooks \u001b[39mor\u001b[39;00m \u001b[39mself\u001b[39m\u001b[39m.\u001b[39m_forward_pre_hooks\n\u001b[0;32m   1499\u001b[0m         \u001b[39mor\u001b[39;00m _global_backward_pre_hooks \u001b[39mor\u001b[39;00m _global_backward_hooks\n\u001b[0;32m   1500\u001b[0m         \u001b[39mor\u001b[39;00m _global_forward_hooks \u001b[39mor\u001b[39;00m _global_forward_pre_hooks):\n\u001b[1;32m-> 1501\u001b[0m     \u001b[39mreturn\u001b[39;00m forward_call(\u001b[39m*\u001b[39margs, \u001b[39m*\u001b[39m\u001b[39m*\u001b[39mkwargs)\n\u001b[0;32m   1502\u001b[0m \u001b[39m# Do not call functions when jit is used\u001b[39;00m\n\u001b[0;32m   1503\u001b[0m full_backward_hooks, non_full_backward_hooks \u001b[39m=\u001b[39m [], []\n",
      "File \u001b[1;32md:\\GITHUB\\Multi-UAV-TA-gym-env\\TaskAllocation\\RL_Policies\\CustomClass_MultiHead_Transformer.py:193\u001b[0m, in \u001b[0;36mCustomNetMultiHead.forward\u001b[1;34m(self, obs, state, info)\u001b[0m\n\u001b[0;32m    189\u001b[0m tasks_info \u001b[39m=\u001b[39m torch\u001b[39m.\u001b[39mtensor(task_values, dtype\u001b[39m=\u001b[39mtorch\u001b[39m.\u001b[39mfloat32)\u001b[39m.\u001b[39mto(\u001b[39mself\u001b[39m\u001b[39m.\u001b[39mdevice)  \u001b[39m# Convert tasks_info to tensor     \u001b[39;00m\n\u001b[0;32m    190\u001b[0m \u001b[39m#print(\"Task_Info:\\n \",tasks_info)\u001b[39;00m\n\u001b[0;32m    191\u001b[0m \n\u001b[0;32m    192\u001b[0m \u001b[39m#tasks_info = tasks_info.view(-1, self.max_tasks, self.task_size)#int(len(tasks_info[0]/10))) #calculate the size of each tasks, and consider 10 max tasks                         \u001b[39;00m\n\u001b[1;32m--> 193\u001b[0m task_embeddings \u001b[39m=\u001b[39m \u001b[39mself\u001b[39;49m\u001b[39m.\u001b[39;49mtask_encoder(tasks_info)\n\u001b[0;32m    194\u001b[0m \u001b[39m#print(\"Task_Embeddings:\\n \",task_embeddings.shape)\u001b[39;00m\n\u001b[0;32m    195\u001b[0m    \n\u001b[0;32m    196\u001b[0m \u001b[39m# Create the mask based on your tasks_info tensor\u001b[39;00m\n\u001b[1;32m   (...)\u001b[0m\n\u001b[0;32m    201\u001b[0m \u001b[39m#attn_mask = attn_mask.unsqueeze(1).expand(-1, tasks_info.size(1), -1)\u001b[39;00m\n\u001b[0;32m    202\u001b[0m \u001b[39m#attn_mask = attn_mask.repeat(self.nhead, 1, 1)\u001b[39;00m\n\u001b[0;32m    204\u001b[0m attn_mask \u001b[39m=\u001b[39m torch\u001b[39m.\u001b[39mtensor(obs[\u001b[39m\"\u001b[39m\u001b[39mmask\u001b[39m\u001b[39m\"\u001b[39m], dtype\u001b[39m=\u001b[39mtorch\u001b[39m.\u001b[39mbool)\u001b[39m.\u001b[39mto(\u001b[39mself\u001b[39m\u001b[39m.\u001b[39mdevice)\n",
      "File \u001b[1;32md:\\Python310\\lib\\site-packages\\torch\\nn\\modules\\module.py:1501\u001b[0m, in \u001b[0;36mModule._call_impl\u001b[1;34m(self, *args, **kwargs)\u001b[0m\n\u001b[0;32m   1496\u001b[0m \u001b[39m# If we don't have any hooks, we want to skip the rest of the logic in\u001b[39;00m\n\u001b[0;32m   1497\u001b[0m \u001b[39m# this function, and just call forward.\u001b[39;00m\n\u001b[0;32m   1498\u001b[0m \u001b[39mif\u001b[39;00m \u001b[39mnot\u001b[39;00m (\u001b[39mself\u001b[39m\u001b[39m.\u001b[39m_backward_hooks \u001b[39mor\u001b[39;00m \u001b[39mself\u001b[39m\u001b[39m.\u001b[39m_backward_pre_hooks \u001b[39mor\u001b[39;00m \u001b[39mself\u001b[39m\u001b[39m.\u001b[39m_forward_hooks \u001b[39mor\u001b[39;00m \u001b[39mself\u001b[39m\u001b[39m.\u001b[39m_forward_pre_hooks\n\u001b[0;32m   1499\u001b[0m         \u001b[39mor\u001b[39;00m _global_backward_pre_hooks \u001b[39mor\u001b[39;00m _global_backward_hooks\n\u001b[0;32m   1500\u001b[0m         \u001b[39mor\u001b[39;00m _global_forward_hooks \u001b[39mor\u001b[39;00m _global_forward_pre_hooks):\n\u001b[1;32m-> 1501\u001b[0m     \u001b[39mreturn\u001b[39;00m forward_call(\u001b[39m*\u001b[39margs, \u001b[39m*\u001b[39m\u001b[39m*\u001b[39mkwargs)\n\u001b[0;32m   1502\u001b[0m \u001b[39m# Do not call functions when jit is used\u001b[39;00m\n\u001b[0;32m   1503\u001b[0m full_backward_hooks, non_full_backward_hooks \u001b[39m=\u001b[39m [], []\n",
      "File \u001b[1;32md:\\Python310\\lib\\site-packages\\torch\\nn\\modules\\container.py:217\u001b[0m, in \u001b[0;36mSequential.forward\u001b[1;34m(self, input)\u001b[0m\n\u001b[0;32m    215\u001b[0m \u001b[39mdef\u001b[39;00m \u001b[39mforward\u001b[39m(\u001b[39mself\u001b[39m, \u001b[39minput\u001b[39m):\n\u001b[0;32m    216\u001b[0m     \u001b[39mfor\u001b[39;00m module \u001b[39min\u001b[39;00m \u001b[39mself\u001b[39m:\n\u001b[1;32m--> 217\u001b[0m         \u001b[39minput\u001b[39m \u001b[39m=\u001b[39m module(\u001b[39minput\u001b[39;49m)\n\u001b[0;32m    218\u001b[0m     \u001b[39mreturn\u001b[39;00m \u001b[39minput\u001b[39m\n",
      "File \u001b[1;32md:\\Python310\\lib\\site-packages\\torch\\nn\\modules\\module.py:1501\u001b[0m, in \u001b[0;36mModule._call_impl\u001b[1;34m(self, *args, **kwargs)\u001b[0m\n\u001b[0;32m   1496\u001b[0m \u001b[39m# If we don't have any hooks, we want to skip the rest of the logic in\u001b[39;00m\n\u001b[0;32m   1497\u001b[0m \u001b[39m# this function, and just call forward.\u001b[39;00m\n\u001b[0;32m   1498\u001b[0m \u001b[39mif\u001b[39;00m \u001b[39mnot\u001b[39;00m (\u001b[39mself\u001b[39m\u001b[39m.\u001b[39m_backward_hooks \u001b[39mor\u001b[39;00m \u001b[39mself\u001b[39m\u001b[39m.\u001b[39m_backward_pre_hooks \u001b[39mor\u001b[39;00m \u001b[39mself\u001b[39m\u001b[39m.\u001b[39m_forward_hooks \u001b[39mor\u001b[39;00m \u001b[39mself\u001b[39m\u001b[39m.\u001b[39m_forward_pre_hooks\n\u001b[0;32m   1499\u001b[0m         \u001b[39mor\u001b[39;00m _global_backward_pre_hooks \u001b[39mor\u001b[39;00m _global_backward_hooks\n\u001b[0;32m   1500\u001b[0m         \u001b[39mor\u001b[39;00m _global_forward_hooks \u001b[39mor\u001b[39;00m _global_forward_pre_hooks):\n\u001b[1;32m-> 1501\u001b[0m     \u001b[39mreturn\u001b[39;00m forward_call(\u001b[39m*\u001b[39margs, \u001b[39m*\u001b[39m\u001b[39m*\u001b[39mkwargs)\n\u001b[0;32m   1502\u001b[0m \u001b[39m# Do not call functions when jit is used\u001b[39;00m\n\u001b[0;32m   1503\u001b[0m full_backward_hooks, non_full_backward_hooks \u001b[39m=\u001b[39m [], []\n",
      "File \u001b[1;32md:\\Python310\\lib\\site-packages\\torch\\nn\\modules\\linear.py:114\u001b[0m, in \u001b[0;36mLinear.forward\u001b[1;34m(self, input)\u001b[0m\n\u001b[0;32m    113\u001b[0m \u001b[39mdef\u001b[39;00m \u001b[39mforward\u001b[39m(\u001b[39mself\u001b[39m, \u001b[39minput\u001b[39m: Tensor) \u001b[39m-\u001b[39m\u001b[39m>\u001b[39m Tensor:\n\u001b[1;32m--> 114\u001b[0m     \u001b[39mreturn\u001b[39;00m F\u001b[39m.\u001b[39;49mlinear(\u001b[39minput\u001b[39;49m, \u001b[39mself\u001b[39;49m\u001b[39m.\u001b[39;49mweight, \u001b[39mself\u001b[39;49m\u001b[39m.\u001b[39;49mbias)\n",
      "\u001b[1;31mKeyboardInterrupt\u001b[0m: "
     ]
    }
   ],
   "source": [
    "if __name__ == \"__main__\":\n",
    "                        \n",
    "    torch.set_grad_enabled(True) \n",
    "    # ======== Step 1: Environment setup =========\n",
    "    train_envs = DummyVectorEnv([_get_env for _ in range(train_env_num)])\n",
    "    test_envs = DummyVectorEnv([_get_env for _ in range(test_env_num)]) \n",
    "\n",
    "    # seed\n",
    "    seed = 1\n",
    "    np.random.seed(seed)\n",
    "    \n",
    "    torch.manual_seed(seed)\n",
    "    train_envs.seed(seed)\n",
    "    test_envs.seed(seed)\n",
    "\n",
    "    # ======== Step 2: Agent setup =========\n",
    "    policy, optim, agents = _get_agents()\n",
    "    \n",
    "\n",
    "    # ======== Step 3: Collector setup =========\n",
    "    train_collector = CustomCollector(\n",
    "        policy,\n",
    "        train_envs,\n",
    "        #VectorReplayBuffer(100_000, len(train_envs)),\n",
    "        PrioritizedVectorReplayBuffer( 100_000, len(train_envs), alpha=0.6, beta=0.4) ,       \n",
    "        exploration_noise=True             \n",
    "    )\n",
    "    test_collector = CustomCollector(policy, test_envs, exploration_noise=True)\n",
    "     \n",
    "    #train_collector.collect(n_step=trainer_params['batch_size'] * train_env_num)\n",
    "    train_collector.collect(n_episode=10)\n",
    "    #test_collector.collect(n_episode=2 )\n",
    "    #test_collector.collect(n_step=trainer_params['batch size'] * train_env_num)\n",
    "    \n",
    "    # ======== tensorboard logging setup =========\n",
    "    #         \n",
    "    writer = SummaryWriter(log_path)\n",
    "    writer.add_text(name, str(Run_Data))\n",
    "    logger = TensorboardLogger(writer)\n",
    "        \n",
    "    # ======== Step 4: Callback functions setup =========\n",
    "    def save_best_fn(policy):                \n",
    "        print(\"Best Saved\")\n",
    "        torch.save(policy.policies[agents[0]].state_dict(), model_save_path)\n",
    "\n",
    "    def stop_fn(mean_rewards):\n",
    "        return mean_rewards >= 9939.0\n",
    "\n",
    "    def train_fn(epoch, env_step):\n",
    "        epsilon = trainer_params['tn_eps_max'] - (trainer_params['tn_eps_max'] - trainer_params['tn_eps_max']/100)*(epoch/trainer_params['max_epoch'])  \n",
    "        policy.policies[agents[0]].set_eps(epsilon)\n",
    "\n",
    "    def test_fn(epoch, env_step):\n",
    "        epsilon = trainer_params['ts_eps_max']#0.01#max(0.001, 0.1 - epoch * 0.001)\n",
    "        policy.policies[agents[0]].set_eps(epsilon)\n",
    "        \n",
    "    def reward_metric(rews):       \n",
    "        #print(rews)\n",
    "        return rews.mean()#[:,0]\n",
    "                           \n",
    "    # ======== Step 5: Run the trainer =========\n",
    "    result = offpolicy_trainer(\n",
    "        policy=policy,\n",
    "        train_collector=train_collector,\n",
    "        test_collector=test_collector,        \n",
    "        max_epoch=trainer_params['max_epoch'],\n",
    "        step_per_epoch=trainer_params['step_per_epoch'],\n",
    "        step_per_collect=trainer_params['step_per_collect'],\n",
    "        episode_per_test= trainer_params['episode_per_test'],\n",
    "        batch_size=trainer_params['batch_size'],\n",
    "        train_fn=train_fn,\n",
    "        test_fn=test_fn,\n",
    "        stop_fn=stop_fn,\n",
    "        save_best_fn=save_best_fn,\n",
    "        update_per_step=trainer_params['update_per_step'],\n",
    "        logger=logger,\n",
    "        test_in_train=False,\n",
    "        reward_metric=reward_metric,\n",
    "        show_progress = True          \n",
    "        )\n",
    "\n",
    "    # return result, policy.policies[agents[1]]\n",
    "    print(f\"\\n==========Result==========\\n{result}\")\n",
    "    print(\"\\n(the trained policy can be accessed via policy.policies[agents[0]])\")"
   ]
  },
  {
   "cell_type": "code",
   "execution_count": null,
   "metadata": {},
   "outputs": [],
   "source": [
    "from typing import Optional, Tuple\n",
    "import os\n",
    "import numpy as np\n",
    "import torch\n",
    "from tianshou.env import DummyVectorEnv\n",
    "from tianshou.trainer import offpolicy_trainer\n",
    "from torch.utils.tensorboard import SummaryWriter\n",
    "from tianshou.utils import TensorboardLogger\n",
    "import torch\n",
    "\n",
    "import mUAV_TA.MultiDroneEnvUtils as utils\n",
    "#from Custom_Classes import CustomCollector\n",
    "\n",
    "def _get_env_eval():\n",
    "    \"\"\"This function is needed to provide callables for DummyVectorEnv.\"\"\"\n",
    "    case =  {'case' : 0, 'F1':2, 'F2': 2, \"R1\" : 3, 'R2' : 3, \"Att\" : 8, \"Rec\" : 22}\n",
    "\n",
    "    config = utils.DroneEnvOptions(     \n",
    "            render_mode = 'human', \n",
    "            render_speed = -1,\n",
    "            simulation_frame_rate = 1 / 60,\n",
    "            simulator_module = \"Internal\", \n",
    "            max_time_steps = 300,\n",
    "            action_mode= \"TaskAssign\",\n",
    "            agents= {\"F1\" : case['F1'], \"F2\" : case['F2'], \"R1\" : case['R1'], \"R2\" : case['R2']},                 \n",
    "            tasks= { \"Att\" : case['Att'], \"Rec\" : case['Rec']},\n",
    "            random_init_pos = True,\n",
    "            num_obstacles = 0,\n",
    "            hidden_obstacles = False,\n",
    "            fail_rate = 0,\n",
    "            info = \"No Info\" )\n",
    "   \n",
    "    \n",
    "    env_paralell = MultiDroneEnv()\n",
    "    #env = parallel_to_aec_wrapper(env_paralell)    \n",
    "    env = CustomParallelToAECWrapper(env_paralell)\n",
    "    \n",
    "    return PettingZooEnv(env)\n",
    "\n",
    "\n",
    "# Create a new instance of the policy with the same architecture as the saved policy\n",
    "name = 'policy_CustomNetMultiHead_Eval_TBTA_02_simplified_UCF_mask01_seed0All.pth' \n",
    "load_policy_name = f'policy_{name}'\n",
    "\n",
    "\n",
    "log_path = os.path.join('./', \"Logs\", \"dqn\", name)\n",
    "\n",
    "policy, optim, _ = _get_agents()\n",
    "model_save_path = os.path.join(\"dqn_Custom\", save_policy_name)        \n",
    "\n",
    "# Load the saved checkpoint\n",
    "policy_test = policy.policies['agent0']\n",
    "policy_test.load_state_dict(torch.load(model_save_path ))\n",
    "\n",
    "envs = DummyVectorEnv([_get_env_eval for _ in range(1)])\n",
    "policy_test.eval()\n",
    "policy_test.set_eps(0.00)\n",
    "\n",
    "#collector = CustomCollector(policy.policies['agent0'], envs, exploration_noise=True)\n",
    "#collector = CustomCollector(policy_test, envs, exploration_noise=False)\n",
    "collector = CustomCollector(policy, envs, exploration_noise=True)\n",
    "\n",
    "#results = collector.collect(n_episode=1)\n",
    "results = collector.collect(n_episode=5)#, gym_reset_kwargs={'seed' :2})\n",
    "results"
   ]
  },
  {
   "cell_type": "code",
   "execution_count": null,
   "metadata": {},
   "outputs": [],
   "source": [
    "results['rews']\n",
    "print(np.mean(results['rews'][results['rews'] > -10]))\n",
    "\n",
    "\n",
    "#create a function  to print a histogram of the results['rews']\n",
    "import matplotlib.pyplot as plt\n",
    "plt.hist(results['rews'][results['rews'] > -10], bins=100)\n",
    "plt.show()\n"
   ]
  },
  {
   "cell_type": "code",
   "execution_count": null,
   "metadata": {},
   "outputs": [],
   "source": [
    "from turtle import st\n",
    "import torch\n",
    "from tianshou.data import Batch\n",
    "\n",
    "# load policy as in your original code\n",
    "policy, optim, _ = _get_agents()\n",
    "model_save_path = os.path.join(\"dqn_Custom\", save_policy_name)        \n",
    "policy_test = policy.policies['agent0']\n",
    "state_saved = torch.load(model_save_path )\n",
    "#print(policy_test)\n",
    "policy_test.load_state_dict(state_saved)\n",
    "policy_test.eval()\n",
    "policy_test.set_eps(0.00)\n",
    "\n",
    "# initialize your environment\n",
    "#env = DummyVectorEnv([_get_env for _ in range(1)])\n",
    "env = MultiDroneEnv(None)\n",
    "env.max_time_steps = 50\n",
    "\n",
    "# simulate the interaction with the environment manually\n",
    "for i in range(10):\n",
    "    for episode in range(1):  # simulate 10 episodes\n",
    "        \n",
    "        #env.render_speed = 1\n",
    "        obs, _  = env.reset(seed=episode)         \n",
    "        info         = env.get_initial_state()\n",
    "        \n",
    "        drones = info[\"drones\"]\n",
    "        tasks = info[\"tasks\"]\n",
    "            \n",
    "        done = {0 : False}\n",
    "        truncations = {0 : False}\n",
    "        \n",
    "        episodo_reward = 0\n",
    "        #obs, reward, done, truncations, info = env.step(action)\n",
    "\n",
    "        while not all(done.values()) and not all(truncations.values()):\n",
    "            \n",
    "            agent_id = \"agent\" + str(env.agent_selector._current_agent)\n",
    "            # Create a Batch of observations\n",
    "            obs_batch = Batch(obs=[obs[agent_id]], info=[{}])  # add empty info for each observation\n",
    "            \n",
    "            #print(obs_batch)\n",
    "            # Forward the batch of observations through the policy to get the actions\n",
    "            action = policy_test(obs_batch).act\n",
    "            action = {agent_id : action[0]}\n",
    "        \n",
    "            obs, reward, done, truncations, info = env.step(action)\n",
    "            \n",
    "            episodo_reward += sum(reward.values())/env.n_agents\n",
    "\n",
    "        \n",
    "\n",
    "    print(episodo_reward)\n"
   ]
  }
 ],
 "metadata": {
  "kernelspec": {
   "display_name": "PettingZoo",
   "language": "python",
   "name": "python3"
  },
  "language_info": {
   "codemirror_mode": {
    "name": "ipython",
    "version": 3
   },
   "file_extension": ".py",
   "mimetype": "text/x-python",
   "name": "python",
   "nbconvert_exporter": "python",
   "pygments_lexer": "ipython3",
   "version": "3.10.9"
  },
  "orig_nbformat": 4
 },
 "nbformat": 4,
 "nbformat_minor": 2
}
